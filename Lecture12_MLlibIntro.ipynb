{
  "nbformat": 4,
  "nbformat_minor": 0,
  "metadata": {
    "colab": {
      "provenance": [],
      "authorship_tag": "ABX9TyMjTjB0ng4v5H/UGZukS9vr",
      "include_colab_link": true
    },
    "kernelspec": {
      "name": "python3",
      "display_name": "Python 3"
    },
    "language_info": {
      "name": "python"
    }
  },
  "cells": [
    {
      "cell_type": "markdown",
      "metadata": {
        "id": "view-in-github",
        "colab_type": "text"
      },
      "source": [
        "<a href=\"https://colab.research.google.com/github/hbisgin/BigDatav1/blob/main/Lecture12_MLlibIntro.ipynb\" target=\"_parent\"><img src=\"https://colab.research.google.com/assets/colab-badge.svg\" alt=\"Open In Colab\"/></a>"
      ]
    },
    {
      "cell_type": "code",
      "metadata": {
        "id": "ed7132ba"
      },
      "source": [
        "from pyspark.sql import SparkSession\n",
        "spark = SparkSession.builder.appName(\"StringIndexerExample\").getOrCreate()"
      ],
      "execution_count": null,
      "outputs": []
    },
    {
      "cell_type": "markdown",
      "source": [
        "# Data Types - Vectors"
      ],
      "metadata": {
        "id": "YIRKU4Tjs48S"
      }
    },
    {
      "cell_type": "code",
      "source": [
        "from pyspark.ml.linalg import Vectors\n",
        "\n",
        "dense_vec = Vectors.dense([1.0, 0.0, 3.0])\n",
        "sparse_vec = Vectors.sparse(5, [0, 3], [1.0, 2.5])\n",
        "dense_vec, sparse_vec"
      ],
      "metadata": {
        "colab": {
          "base_uri": "https://localhost:8080/"
        },
        "id": "1qjs1CkLs3yE",
        "outputId": "278b4ec6-206a-4d03-b6ff-da953777b1eb"
      },
      "execution_count": 10,
      "outputs": [
        {
          "output_type": "execute_result",
          "data": {
            "text/plain": [
              "(DenseVector([1.0, 0.0, 3.0]), SparseVector(5, {0: 1.0, 3: 2.5}))"
            ]
          },
          "metadata": {},
          "execution_count": 10
        }
      ]
    },
    {
      "cell_type": "markdown",
      "source": [
        "# Data Types - Labeled Points"
      ],
      "metadata": {
        "id": "Mdgom97Ss-3-"
      }
    },
    {
      "cell_type": "code",
      "source": [
        "from pyspark.mllib.linalg import Vectors\n",
        "from pyspark.mllib.regression import LabeledPoint\n",
        "\n",
        "point = LabeledPoint(1.0, Vectors.dense([2.0, 0.0, 1.0]))\n",
        "print(point)"
      ],
      "metadata": {
        "colab": {
          "base_uri": "https://localhost:8080/"
        },
        "id": "JxNroi1etFmL",
        "outputId": "ca8e90c6-6eb3-4e3a-bc4a-9851fd185be5"
      },
      "execution_count": 13,
      "outputs": [
        {
          "output_type": "stream",
          "name": "stdout",
          "text": [
            "(1.0,[2.0,0.0,1.0])\n"
          ]
        }
      ]
    },
    {
      "cell_type": "markdown",
      "source": [
        "# Data Types - Matrix"
      ],
      "metadata": {
        "id": "YQcjNIbDtpMN"
      }
    },
    {
      "cell_type": "code",
      "source": [
        "from pyspark.ml.linalg import Matrices\n",
        "\n",
        "# Dense matrix: 3 rows x 2 columns\n",
        "dense = Matrices.dense(3, 2, [1.0, 3.0, 5.0, 2.0, 4.0, 6.0])\n",
        "\n",
        "# Sparse matrix\n",
        "sparse = Matrices.sparse(3, 3, [0, 1, 3, 3], [0, 1, 2], [1.0, 2.0, 3.0])\n",
        "\n",
        "dense, sparse\n",
        "\n",
        "#The False at the end is from isTransposed flag\n"
      ],
      "metadata": {
        "colab": {
          "base_uri": "https://localhost:8080/"
        },
        "id": "dKbVgZFStriN",
        "outputId": "905403f3-a864-40a0-a84a-91ec95de3e78"
      },
      "execution_count": 17,
      "outputs": [
        {
          "output_type": "execute_result",
          "data": {
            "text/plain": [
              "(DenseMatrix(3, 2, [1.0, 3.0, 5.0, 2.0, 4.0, 6.0], False),\n",
              " SparseMatrix(3, 3, [0, 1, 3, 3], [0, 1, 2], [1.0, 2.0, 3.0], False))"
            ]
          },
          "metadata": {},
          "execution_count": 17
        }
      ]
    },
    {
      "cell_type": "code",
      "execution_count": null,
      "metadata": {
        "colab": {
          "base_uri": "https://localhost:8080/"
        },
        "id": "CWi5mUrROvp_",
        "outputId": "e3b7ebaf-84da-4c71-c026-141b2cf62700"
      },
      "outputs": [
        {
          "output_type": "stream",
          "name": "stdout",
          "text": [
            "+---+--------+-------------+\n",
            "| id|category|categoryIndex|\n",
            "+---+--------+-------------+\n",
            "|  0|       a|          0.0|\n",
            "|  1|       b|          2.0|\n",
            "|  2|       c|          1.0|\n",
            "|  3|       a|          0.0|\n",
            "|  4|       a|          0.0|\n",
            "|  5|       c|          1.0|\n",
            "+---+--------+-------------+\n",
            "\n"
          ]
        }
      ],
      "source": [
        "from pyspark.ml.feature import StringIndexer\n",
        "\n",
        "df = spark.createDataFrame(\n",
        "    [(0, \"a\"), (1, \"b\"), (2, \"c\"), (3, \"a\"), (4, \"a\"), (5, \"c\")],\n",
        "    [\"id\", \"category\"]\n",
        ")\n",
        "\n",
        "indexer = StringIndexer(\n",
        "    inputCol=\"category\",\n",
        "    outputCol=\"categoryIndex\"\n",
        ")\n",
        "\n",
        "indexed = indexer.fit(df).transform(df)\n",
        "indexed.show()"
      ]
    },
    {
      "cell_type": "markdown",
      "source": [
        "# Sample DataFrame"
      ],
      "metadata": {
        "id": "tdQSutowQLFe"
      }
    },
    {
      "cell_type": "code",
      "source": [
        "\n",
        "data = [\n",
        "    (1, 10.0, 20.0, 1.0),\n",
        "    (2, 5.0,  10.0, 0.0),\n",
        "    (3, 3.0,  15.0, 1.0)\n",
        "]\n",
        "\n",
        "columns = [\"id\", \"feature1\", \"feature2\", \"label\"]\n",
        "\n",
        "df = spark.createDataFrame(data, columns)\n",
        "df.show()"
      ],
      "metadata": {
        "colab": {
          "base_uri": "https://localhost:8080/"
        },
        "id": "0OtbJwLVQGI1",
        "outputId": "6cda5b6c-bd6c-4c4b-b39d-b3136739cfc0"
      },
      "execution_count": 4,
      "outputs": [
        {
          "output_type": "stream",
          "name": "stdout",
          "text": [
            "+---+--------+--------+-----+\n",
            "| id|feature1|feature2|label|\n",
            "+---+--------+--------+-----+\n",
            "|  1|    10.0|    20.0|  1.0|\n",
            "|  2|     5.0|    10.0|  0.0|\n",
            "|  3|     3.0|    15.0|  1.0|\n",
            "+---+--------+--------+-----+\n",
            "\n"
          ]
        }
      ]
    },
    {
      "cell_type": "markdown",
      "source": [
        "# Combine feature1 and feature2 into a single \"features\" vector\n"
      ],
      "metadata": {
        "id": "JStprDLnQNAJ"
      }
    },
    {
      "cell_type": "code",
      "source": [
        "assembler = VectorAssembler(\n",
        "    inputCols=[\"feature1\", \"feature2\"],\n",
        "    outputCol=\"features\"\n",
        ")\n",
        "\n",
        "# Transform the data\n",
        "output = assembler.transform(df)\n",
        "\n",
        "output.select(\"id\", \"features\", \"label\").show(truncate=False)\n"
      ],
      "metadata": {
        "colab": {
          "base_uri": "https://localhost:8080/"
        },
        "id": "x11AgnToQJen",
        "outputId": "cc929f40-4369-4970-f1b6-4612ea77c879"
      },
      "execution_count": 6,
      "outputs": [
        {
          "output_type": "stream",
          "name": "stdout",
          "text": [
            "+---+-----------+-----+\n",
            "|id |features   |label|\n",
            "+---+-----------+-----+\n",
            "|1  |[10.0,20.0]|1.0  |\n",
            "|2  |[5.0,10.0] |0.0  |\n",
            "|3  |[3.0,15.0] |1.0  |\n",
            "+---+-----------+-----+\n",
            "\n"
          ]
        }
      ]
    },
    {
      "cell_type": "markdown",
      "source": [
        "# VectorIndexer Example"
      ],
      "metadata": {
        "id": "HQTSb1fsohyr"
      }
    },
    {
      "cell_type": "code",
      "source": [
        "from pyspark.sql import SparkSession\n",
        "from pyspark.ml.feature import VectorAssembler, VectorIndexer\n",
        "\n",
        "# Create a Spark session\n",
        "spark = SparkSession.builder.appName(\"VectorIndexerExample\").getOrCreate()\n",
        "\n",
        "# Sample data\n",
        "data = [\n",
        "    (0, 1.0, 0.1, -1.0),\n",
        "    (1, 0.0, 0.2, -1.0),\n",
        "    (2, 1.0, 0.1, 1.0),\n",
        "    (3, 2.0, 0.2, 1.0),\n",
        "    (4, 2.0, 0.2, -1.0)\n",
        "]\n",
        "\n",
        "columns = [\"id\", \"feature1\", \"feature2\", \"label\"]\n",
        "df = spark.createDataFrame(data, columns)\n",
        "\n",
        "# Assemble features into a single vector column\n",
        "assembler = VectorAssembler(\n",
        "    inputCols=[\"feature1\", \"feature2\"],\n",
        "    outputCol=\"features\"\n",
        ")\n",
        "assembled = assembler.transform(df)\n",
        "\n",
        "assembled.show(truncate=False)\n"
      ],
      "metadata": {
        "colab": {
          "base_uri": "https://localhost:8080/"
        },
        "id": "_tZq6VlZoh-6",
        "outputId": "fd6f85c0-75b7-4574-cc73-3bf6dd0a4d38"
      },
      "execution_count": 7,
      "outputs": [
        {
          "output_type": "stream",
          "name": "stdout",
          "text": [
            "+---+--------+--------+-----+---------+\n",
            "|id |feature1|feature2|label|features |\n",
            "+---+--------+--------+-----+---------+\n",
            "|0  |1.0     |0.1     |-1.0 |[1.0,0.1]|\n",
            "|1  |0.0     |0.2     |-1.0 |[0.0,0.2]|\n",
            "|2  |1.0     |0.1     |1.0  |[1.0,0.1]|\n",
            "|3  |2.0     |0.2     |1.0  |[2.0,0.2]|\n",
            "|4  |2.0     |0.2     |-1.0 |[2.0,0.2]|\n",
            "+---+--------+--------+-----+---------+\n",
            "\n"
          ]
        }
      ]
    },
    {
      "cell_type": "markdown",
      "source": [
        "\n",
        "\n",
        "      - Automatically detects categorical features.\n",
        "      - Encodes them as category indices under the hood.\n",
        "      - Works seamlessly with downstream ML models.\n",
        "\n",
        "    "
      ],
      "metadata": {
        "id": "Qq-i3eP8pyRQ"
      }
    },
    {
      "cell_type": "code",
      "source": [
        "# Automatically identify categorical features\n",
        "# and index them (features with <= 2 distinct values)\n",
        "indexer = VectorIndexer(\n",
        "    inputCol=\"features\",\n",
        "    outputCol=\"indexedFeatures\",\n",
        "    maxCategories=2  # Features with <=2 distinct values are treated as categorical\n",
        ")\n",
        "\n",
        "# Fit the indexer\n",
        "indexer_model = indexer.fit(assembled)\n",
        "\n",
        "# Transform the data\n",
        "indexed = indexer_model.transform(assembled)\n",
        "\n",
        "indexed.select(\"features\", \"indexedFeatures\").show(truncate=False)\n"
      ],
      "metadata": {
        "colab": {
          "base_uri": "https://localhost:8080/"
        },
        "id": "dIXIKrQUo5qz",
        "outputId": "ed1df653-591f-4574-c4a8-f884d97bf7d8"
      },
      "execution_count": 8,
      "outputs": [
        {
          "output_type": "stream",
          "name": "stdout",
          "text": [
            "+---------+---------------+\n",
            "|features |indexedFeatures|\n",
            "+---------+---------------+\n",
            "|[1.0,0.1]|[1.0,0.0]      |\n",
            "|[0.0,0.2]|[0.0,1.0]      |\n",
            "|[1.0,0.1]|[1.0,0.0]      |\n",
            "|[2.0,0.2]|[2.0,1.0]      |\n",
            "|[2.0,0.2]|[2.0,1.0]      |\n",
            "+---------+---------------+\n",
            "\n"
          ]
        }
      ]
    }
  ]
}