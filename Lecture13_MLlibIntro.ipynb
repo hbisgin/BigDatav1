{
  "nbformat": 4,
  "nbformat_minor": 0,
  "metadata": {
    "colab": {
      "provenance": [],
      "authorship_tag": "ABX9TyNUzawJSdCaoZFpjYQs5l08",
      "include_colab_link": true
    },
    "kernelspec": {
      "name": "python3",
      "display_name": "Python 3"
    },
    "language_info": {
      "name": "python"
    }
  },
  "cells": [
    {
      "cell_type": "markdown",
      "metadata": {
        "id": "view-in-github",
        "colab_type": "text"
      },
      "source": [
        "<a href=\"https://colab.research.google.com/github/hbisgin/BigDatav1/blob/main/Lecture13_MLlibIntro.ipynb\" target=\"_parent\"><img src=\"https://colab.research.google.com/assets/colab-badge.svg\" alt=\"Open In Colab\"/></a>"
      ]
    },
    {
      "cell_type": "code",
      "metadata": {
        "id": "ed7132ba"
      },
      "source": [
        "from pyspark.sql import SparkSession\n",
        "spark = SparkSession.builder.appName(\"StringIndexerExample\").getOrCreate()"
      ],
      "execution_count": 20,
      "outputs": []
    },
    {
      "cell_type": "markdown",
      "source": [
        "# One hot encoder example\n",
        "First create a dummy dataframe"
      ],
      "metadata": {
        "id": "L4GNKd0ofW1V"
      }
    },
    {
      "cell_type": "code",
      "source": [
        "from pyspark.sql import SparkSession\n",
        "from pyspark.ml.feature import StringIndexer, OneHotEncoder, VectorAssembler\n",
        "from pyspark.ml import Pipeline\n",
        "\n",
        "# Create Spark session\n",
        "spark = SparkSession.builder \\\n",
        "    .appName(\"OneHotEncodingExample\") \\\n",
        "    .getOrCreate()\n",
        "\n",
        "# Sample data\n",
        "data = [\n",
        "    (0, \"red\", 1.0),\n",
        "    (1, \"blue\", 2.0),\n",
        "    (2, \"green\", 3.0),\n",
        "    (3, \"blue\", 4.0),\n",
        "    (4, \"red\", 5.0),\n",
        "]\n",
        "df = spark.createDataFrame(data, [\"id\", \"color\", \"value\"])\n",
        "df.show()\n"
      ],
      "metadata": {
        "colab": {
          "base_uri": "https://localhost:8080/"
        },
        "id": "P1VYxy5we9ql",
        "outputId": "7aa9039b-a9ab-45cf-e462-566042319373"
      },
      "execution_count": 2,
      "outputs": [
        {
          "output_type": "stream",
          "name": "stdout",
          "text": [
            "+---+-----+-----+\n",
            "| id|color|value|\n",
            "+---+-----+-----+\n",
            "|  0|  red|  1.0|\n",
            "|  1| blue|  2.0|\n",
            "|  2|green|  3.0|\n",
            "|  3| blue|  4.0|\n",
            "|  4|  red|  5.0|\n",
            "+---+-----+-----+\n",
            "\n"
          ]
        }
      ]
    },
    {
      "cell_type": "markdown",
      "source": [
        "#Build a pipeline step by step to tackle with the categorical variable, color"
      ],
      "metadata": {
        "id": "7_nUZtiSfe4s"
      }
    },
    {
      "cell_type": "code",
      "source": [
        "\n",
        "\n",
        "# 1. StringIndexer: convert categorical string column → numeric index column, we have seen this\n",
        "indexer = StringIndexer(inputCol=\"color\", outputCol=\"colorIndex\", handleInvalid=\"keep\")\n",
        "model = indexer.fit(df)\n",
        "df_indexed = model.transform(df)\n",
        "df_indexed.show()"
      ],
      "metadata": {
        "colab": {
          "base_uri": "https://localhost:8080/"
        },
        "id": "VDlv-H7wfVT0",
        "outputId": "f54e1d61-d117-4b20-f1df-22b3c3c6d3b3"
      },
      "execution_count": 12,
      "outputs": [
        {
          "output_type": "stream",
          "name": "stdout",
          "text": [
            "+---+-----+-----+----------+\n",
            "| id|color|value|colorIndex|\n",
            "+---+-----+-----+----------+\n",
            "|  0|  red|  1.0|       1.0|\n",
            "|  1| blue|  2.0|       0.0|\n",
            "|  2|green|  3.0|       2.0|\n",
            "|  3| blue|  4.0|       0.0|\n",
            "|  4|  red|  5.0|       1.0|\n",
            "+---+-----+-----+----------+\n",
            "\n"
          ]
        }
      ]
    },
    {
      "cell_type": "code",
      "source": [
        "# 2. OneHotEncoder: convert index column → one-hot encoded vector\n",
        "encoder = OneHotEncoder(\n",
        "    inputCols=[\"colorIndex\"],\n",
        "    outputCols=[\"colorVec\"],\n",
        "    dropLast=True,          # default: drop the last category to avoid full collinearity\n",
        "    handleInvalid=\"error\"    # how to treat unseen/invalid categories error vs. keep\n",
        ")\n",
        "model = encoder.fit(df_indexed)\n",
        "df_encoded = model.transform(df_indexed)\n",
        "df_encoded.show()"
      ],
      "metadata": {
        "colab": {
          "base_uri": "https://localhost:8080/"
        },
        "id": "cjuBj2BFf1Mp",
        "outputId": "83f3e770-d10c-4a43-8230-05200df03a35"
      },
      "execution_count": 13,
      "outputs": [
        {
          "output_type": "stream",
          "name": "stdout",
          "text": [
            "+---+-----+-----+----------+-------------+\n",
            "| id|color|value|colorIndex|     colorVec|\n",
            "+---+-----+-----+----------+-------------+\n",
            "|  0|  red|  1.0|       1.0|(3,[1],[1.0])|\n",
            "|  1| blue|  2.0|       0.0|(3,[0],[1.0])|\n",
            "|  2|green|  3.0|       2.0|(3,[2],[1.0])|\n",
            "|  3| blue|  4.0|       0.0|(3,[0],[1.0])|\n",
            "|  4|  red|  5.0|       1.0|(3,[1],[1.0])|\n",
            "+---+-----+-----+----------+-------------+\n",
            "\n"
          ]
        }
      ]
    },
    {
      "cell_type": "markdown",
      "source": [
        "Instead of storing every value in the vector, we only store:\n",
        "\n",
        "-the length of the vector,\n",
        "\n",
        "-the indices where non-zero elements appear,\n",
        "\n",
        "-and the values at those positions.\n",
        "\n",
        "This is called a sparse vector.\n",
        "\n",
        "🔹 Example 1: simple one-hot vector\n",
        "\n",
        "For [1, 0, 0]\n",
        "We can write it as:\n",
        "\n",
        "```(3, [0], [1.0])```"
      ],
      "metadata": {
        "id": "aMm8LkojjEyg"
      }
    },
    {
      "cell_type": "code",
      "source": [
        "# 3. (Optional) Combine with numeric features via VectorAssembler\n",
        "assembler = VectorAssembler(\n",
        "    inputCols=[\"colorVec\", \"value\"],\n",
        "    outputCol=\"features\"\n",
        ")\n",
        "assembled = assembler.transform(df_encoded)\n",
        "assembled.show()"
      ],
      "metadata": {
        "colab": {
          "base_uri": "https://localhost:8080/"
        },
        "id": "SUKz6dg3f3i1",
        "outputId": "62fce4a1-0abe-4a2d-de56-d6787ae0d8df"
      },
      "execution_count": 14,
      "outputs": [
        {
          "output_type": "stream",
          "name": "stdout",
          "text": [
            "+---+-----+-----+----------+-------------+-----------------+\n",
            "| id|color|value|colorIndex|     colorVec|         features|\n",
            "+---+-----+-----+----------+-------------+-----------------+\n",
            "|  0|  red|  1.0|       1.0|(3,[1],[1.0])|[0.0,1.0,0.0,1.0]|\n",
            "|  1| blue|  2.0|       0.0|(3,[0],[1.0])|[1.0,0.0,0.0,2.0]|\n",
            "|  2|green|  3.0|       2.0|(3,[2],[1.0])|[0.0,0.0,1.0,3.0]|\n",
            "|  3| blue|  4.0|       0.0|(3,[0],[1.0])|[1.0,0.0,0.0,4.0]|\n",
            "|  4|  red|  5.0|       1.0|(3,[1],[1.0])|[0.0,1.0,0.0,5.0]|\n",
            "+---+-----+-----+----------+-------------+-----------------+\n",
            "\n"
          ]
        }
      ]
    },
    {
      "cell_type": "markdown",
      "source": [
        "Let's do it at once with the help of Pipeline"
      ],
      "metadata": {
        "id": "K4kvK7C1hdBI"
      }
    },
    {
      "cell_type": "code",
      "source": [
        "# Build a pipeline\n",
        "pipeline = Pipeline(stages=[indexer, encoder, assembler])\n",
        "\n",
        "# Fit and transform\n",
        "model = pipeline.fit(df)\n",
        "df_transformed = model.transform(df)\n",
        "\n",
        "df_transformed.select(\"id\", \"color\", \"colorIndex\", \"colorVec\", \"features\").show(truncate=False)\n",
        "\n",
        "\n",
        "# Stop Spark when done\n",
        "spark.stop()"
      ],
      "metadata": {
        "colab": {
          "base_uri": "https://localhost:8080/"
        },
        "id": "ktvNX9AAf6gM",
        "outputId": "fe31700b-e2f0-487a-86b9-1b6ff0cc46cb"
      },
      "execution_count": 15,
      "outputs": [
        {
          "output_type": "stream",
          "name": "stdout",
          "text": [
            "+---+-----+----------+-------------+-----------------+\n",
            "|id |color|colorIndex|colorVec     |features         |\n",
            "+---+-----+----------+-------------+-----------------+\n",
            "|0  |red  |1.0       |(3,[1],[1.0])|[0.0,1.0,0.0,1.0]|\n",
            "|1  |blue |0.0       |(3,[0],[1.0])|[1.0,0.0,0.0,2.0]|\n",
            "|2  |green|2.0       |(3,[2],[1.0])|[0.0,0.0,1.0,3.0]|\n",
            "|3  |blue |0.0       |(3,[0],[1.0])|[1.0,0.0,0.0,4.0]|\n",
            "|4  |red  |1.0       |(3,[1],[1.0])|[0.0,1.0,0.0,5.0]|\n",
            "+---+-----+----------+-------------+-----------------+\n",
            "\n"
          ]
        }
      ]
    },
    {
      "cell_type": "markdown",
      "source": [
        "# VectorIndexer Example"
      ],
      "metadata": {
        "id": "xQ32CXduZaja"
      }
    },
    {
      "cell_type": "markdown",
      "source": [
        "\n",
        "\n",
        "      - Automatically detects categorical features.\n",
        "      - Encodes them as category indices under the hood.\n",
        "      - Works seamlessly with downstream ML models.\n",
        "\n",
        "    "
      ],
      "metadata": {
        "id": "Qq-i3eP8pyRQ"
      }
    },
    {
      "cell_type": "code",
      "source": [
        "# Automatically identify categorical features\n",
        "# and index them (features with <= 2 distinct values)\n",
        "indexer = VectorIndexer(\n",
        "    inputCol=\"features\",\n",
        "    outputCol=\"indexedFeatures\",\n",
        "    maxCategories=2  # Features with <=2 distinct values are treated as categorical\n",
        ")\n",
        "\n",
        "# Fit the indexer\n",
        "indexer_model = indexer.fit(assembled)\n",
        "\n",
        "# Transform the data\n",
        "indexed = indexer_model.transform(assembled)\n",
        "\n",
        "indexed.select(\"features\", \"indexedFeatures\").show(truncate=False)\n"
      ],
      "metadata": {
        "id": "WTkntY-CZWcp"
      },
      "execution_count": null,
      "outputs": []
    },
    {
      "cell_type": "markdown",
      "source": [
        "# R formula"
      ],
      "metadata": {
        "id": "a4AD9dgTtu5o"
      }
    },
    {
      "cell_type": "code",
      "source": [
        "\n",
        "data = [\n",
        "    (\"red\", 1.0, 10.0, 0.0),\n",
        "    (\"blue\", 2.0, 20.0, 1.0),\n",
        "    (\"green\", 3.0, 30.0, 0.0),\n",
        "    (\"red\", 4.0, 40.0, 1.0)\n",
        "]\n",
        "\n",
        "drf = spark.createDataFrame(data, [\"color\", \"value1\", \"value2\", \"label\"])\n",
        "drf.show()\n"
      ],
      "metadata": {
        "colab": {
          "base_uri": "https://localhost:8080/"
        },
        "id": "2Yt1GHhStuS1",
        "outputId": "33466d44-5cb7-441d-f745-e74e93eb5468"
      },
      "execution_count": 29,
      "outputs": [
        {
          "output_type": "stream",
          "name": "stdout",
          "text": [
            "+-----+------+------+-----+\n",
            "|color|value1|value2|label|\n",
            "+-----+------+------+-----+\n",
            "|  red|   1.0|  10.0|  0.0|\n",
            "| blue|   2.0|  20.0|  1.0|\n",
            "|green|   3.0|  30.0|  0.0|\n",
            "|  red|   4.0|  40.0|  1.0|\n",
            "+-----+------+------+-----+\n",
            "\n"
          ]
        }
      ]
    },
    {
      "cell_type": "code",
      "source": [
        "from pyspark.ml.feature import RFormula\n",
        "\n",
        "formula = RFormula(\n",
        "    formula=\"label ~ . + color:value1\"\n",
        ")\n",
        "model = formula.fit(drf)\n",
        "output = model.transform(drf)\n",
        "output.show()"
      ],
      "metadata": {
        "colab": {
          "base_uri": "https://localhost:8080/"
        },
        "id": "befhUz8UuLut",
        "outputId": "8f8df00f-584a-4471-c80e-7150c1f5c1dc"
      },
      "execution_count": 33,
      "outputs": [
        {
          "output_type": "stream",
          "name": "stdout",
          "text": [
            "+-----+------+------+-----+--------------------+\n",
            "|color|value1|value2|label|            features|\n",
            "+-----+------+------+-----+--------------------+\n",
            "|  red|   1.0|  10.0|  0.0|[1.0,0.0,1.0,10.0...|\n",
            "| blue|   2.0|  20.0|  1.0|[0.0,1.0,2.0,20.0...|\n",
            "|green|   3.0|  30.0|  0.0|(7,[2,3,6],[3.0,3...|\n",
            "|  red|   4.0|  40.0|  1.0|[1.0,0.0,4.0,40.0...|\n",
            "+-----+------+------+-----+--------------------+\n",
            "\n"
          ]
        }
      ]
    },
    {
      "cell_type": "markdown",
      "source": [
        "# Sample data"
      ],
      "metadata": {
        "id": "IvdKzoW-fj_t"
      }
    },
    {
      "cell_type": "code",
      "source": [
        "!wget https://raw.githubusercontent.com/databricks/Spark-The-Definitive-Guide/refs/heads/master/data/sample_libsvm_data.txt"
      ],
      "metadata": {
        "colab": {
          "base_uri": "https://localhost:8080/"
        },
        "id": "GBCwrNODftp7",
        "outputId": "5ba15345-cebf-44ac-8854-6284a30c16b3"
      },
      "execution_count": 23,
      "outputs": [
        {
          "output_type": "stream",
          "name": "stdout",
          "text": [
            "--2025-10-07 16:29:55--  https://raw.githubusercontent.com/databricks/Spark-The-Definitive-Guide/refs/heads/master/data/sample_libsvm_data.txt\n",
            "Resolving raw.githubusercontent.com (raw.githubusercontent.com)... 185.199.108.133, 185.199.109.133, 185.199.110.133, ...\n",
            "Connecting to raw.githubusercontent.com (raw.githubusercontent.com)|185.199.108.133|:443... connected.\n",
            "HTTP request sent, awaiting response... 200 OK\n",
            "Length: 104736 (102K) [text/plain]\n",
            "Saving to: ‘sample_libsvm_data.txt’\n",
            "\n",
            "\rsample_libsvm_data.   0%[                    ]       0  --.-KB/s               \rsample_libsvm_data. 100%[===================>] 102.28K  --.-KB/s    in 0.01s   \n",
            "\n",
            "2025-10-07 16:29:55 (9.18 MB/s) - ‘sample_libsvm_data.txt’ saved [104736/104736]\n",
            "\n"
          ]
        }
      ]
    },
    {
      "cell_type": "code",
      "source": [
        "sdf = spark.read.format(\"libsvm\").load(\"/content/sample_libsvm_data.txt\")"
      ],
      "metadata": {
        "id": "Bnjw1lN-fn-p"
      },
      "execution_count": 24,
      "outputs": []
    },
    {
      "cell_type": "code",
      "source": [
        "sdf.show()"
      ],
      "metadata": {
        "colab": {
          "base_uri": "https://localhost:8080/"
        },
        "id": "K18CGF3ngjZS",
        "outputId": "8b909573-70f1-44f6-e789-38b691522fbe"
      },
      "execution_count": 25,
      "outputs": [
        {
          "output_type": "stream",
          "name": "stdout",
          "text": [
            "+-----+--------------------+\n",
            "|label|            features|\n",
            "+-----+--------------------+\n",
            "|  0.0|(692,[127,128,129...|\n",
            "|  1.0|(692,[158,159,160...|\n",
            "|  1.0|(692,[124,125,126...|\n",
            "|  1.0|(692,[152,153,154...|\n",
            "|  1.0|(692,[151,152,153...|\n",
            "|  0.0|(692,[129,130,131...|\n",
            "|  1.0|(692,[158,159,160...|\n",
            "|  1.0|(692,[99,100,101,...|\n",
            "|  0.0|(692,[154,155,156...|\n",
            "|  0.0|(692,[127,128,129...|\n",
            "|  1.0|(692,[154,155,156...|\n",
            "|  0.0|(692,[153,154,155...|\n",
            "|  0.0|(692,[151,152,153...|\n",
            "|  1.0|(692,[129,130,131...|\n",
            "|  0.0|(692,[154,155,156...|\n",
            "|  1.0|(692,[150,151,152...|\n",
            "|  0.0|(692,[124,125,126...|\n",
            "|  0.0|(692,[152,153,154...|\n",
            "|  1.0|(692,[97,98,99,12...|\n",
            "|  1.0|(692,[124,125,126...|\n",
            "+-----+--------------------+\n",
            "only showing top 20 rows\n",
            "\n"
          ]
        }
      ]
    },
    {
      "cell_type": "markdown",
      "source": [
        "Import the LogisticRegression class\n",
        "Define (instantiate) the logistic regression estimator\n",
        "\n"
      ],
      "metadata": {
        "id": "7mv8p2CExKmy"
      }
    },
    {
      "cell_type": "code",
      "source": [
        "from pyspark.ml.classification import LogisticRegression\n",
        "\n",
        "lr = LogisticRegression(\n",
        "    labelCol=\"label\",       # column containing true labels\n",
        "    featuresCol=\"features\", # column containing feature vectors\n",
        "    maxIter=10,             # number of optimization iterations\n",
        "    regParam=0.3,           # regularization strength\n",
        "    elasticNetParam=0.8     # ElasticNet mixing (0=L2, 1=L1)\n",
        ")"
      ],
      "metadata": {
        "id": "smcajnjxxBL6"
      },
      "execution_count": 36,
      "outputs": []
    },
    {
      "cell_type": "code",
      "source": [
        "lr.explainParams()"
      ],
      "metadata": {
        "colab": {
          "base_uri": "https://localhost:8080/",
          "height": 122
        },
        "id": "8O-C2csExCGx",
        "outputId": "4c4e58e4-f686-44f3-9980-3328ff4b6cb5"
      },
      "execution_count": 37,
      "outputs": [
        {
          "output_type": "execute_result",
          "data": {
            "text/plain": [
              "\"aggregationDepth: suggested depth for treeAggregate (>= 2). (default: 2)\\nelasticNetParam: the ElasticNet mixing parameter, in range [0, 1]. For alpha = 0, the penalty is an L2 penalty. For alpha = 1, it is an L1 penalty. (default: 0.0, current: 0.8)\\nfamily: The name of family which is a description of the label distribution to be used in the model. Supported options: auto, binomial, multinomial (default: auto)\\nfeaturesCol: features column name. (default: features, current: features)\\nfitIntercept: whether to fit an intercept term. (default: True)\\nlabelCol: label column name. (default: label, current: label)\\nlowerBoundsOnCoefficients: The lower bounds on coefficients if fitting under bound constrained optimization. The bound matrix must be compatible with the shape (1, number of features) for binomial regression, or (number of classes, number of features) for multinomial regression. (undefined)\\nlowerBoundsOnIntercepts: The lower bounds on intercepts if fitting under bound constrained optimization. The bounds vector size must beequal with 1 for binomial regression, or the number oflasses for multinomial regression. (undefined)\\nmaxBlockSizeInMB: maximum memory in MB for stacking input data into blocks. Data is stacked within partitions. If more than remaining data size in a partition then it is adjusted to the data size. Default 0.0 represents choosing optimal value, depends on specific algorithm. Must be >= 0. (default: 0.0)\\nmaxIter: max number of iterations (>= 0). (default: 100, current: 10)\\npredictionCol: prediction column name. (default: prediction)\\nprobabilityCol: Column name for predicted class conditional probabilities. Note: Not all models output well-calibrated probability estimates! These probabilities should be treated as confidences, not precise probabilities. (default: probability)\\nrawPredictionCol: raw prediction (a.k.a. confidence) column name. (default: rawPrediction)\\nregParam: regularization parameter (>= 0). (default: 0.0, current: 0.3)\\nstandardization: whether to standardize the training features before fitting the model. (default: True)\\nthreshold: Threshold in binary classification prediction, in range [0, 1]. If threshold and thresholds are both set, they must match.e.g. if threshold is p, then thresholds must be equal to [1-p, p]. (default: 0.5)\\nthresholds: Thresholds in multi-class classification to adjust the probability of predicting each class. Array must have length equal to the number of classes, with values > 0, excepting that at most one value may be 0. The class with largest value p/t is predicted, where p is the original probability of that class and t is the class's threshold. (undefined)\\ntol: the convergence tolerance for iterative algorithms (>= 0). (default: 1e-06)\\nupperBoundsOnCoefficients: The upper bounds on coefficients if fitting under bound constrained optimization. The bound matrix must be compatible with the shape (1, number of features) for binomial regression, or (number of classes, number of features) for multinomial regression. (undefined)\\nupperBoundsOnIntercepts: The upper bounds on intercepts if fitting under bound constrained optimization. The bound vector size must be equal with 1 for binomial regression, or the number of classes for multinomial regression. (undefined)\\nweightCol: weight column name. If this is not set or empty, we treat all instance weights as 1.0. (undefined)\""
            ],
            "application/vnd.google.colaboratory.intrinsic+json": {
              "type": "string"
            }
          },
          "metadata": {},
          "execution_count": 37
        }
      ]
    },
    {
      "cell_type": "code",
      "source": [
        "\n",
        "# Fit the model to your data (train)\n",
        "lr_model = lr.fit(sdf)\n",
        "\n",
        "# Inspect model summary and coefficients\n",
        "print(\"Coefficients:\", lr_model.coefficients)\n",
        "print(\"Intercept:\", lr_model.intercept)\n",
        "\n",
        "# Make predictions\n",
        "predictions = lr_model.transform(sdf)\n",
        "predictions.select(\"label\", \"prediction\", \"probability\").show(5, truncate=False)\n"
      ],
      "metadata": {
        "colab": {
          "base_uri": "https://localhost:8080/"
        },
        "id": "vcng2Fbuwx62",
        "outputId": "fc357150-e2b8-43d2-9253-f7f6786da2a5"
      },
      "execution_count": 35,
      "outputs": [
        {
          "output_type": "stream",
          "name": "stdout",
          "text": [
            "Coefficients: (692,[272,300,323,350,351,378,379,405,406,407,428,433,434,435,455,456,461,462,483,484,489,490,496,511,512,517,539,540,568],[-7.520689871384125e-05,-8.115773146847006e-05,3.814692771846427e-05,0.0003776490540424338,0.0003405148366194403,0.0005514455157343107,0.0004085386116096912,0.0004197467332749452,0.0008119171358670031,0.000502770837266875,-2.3929260406600902e-05,0.0005745048020902297,0.0009037546426803677,7.818229700243899e-05,-2.1787551952911914e-05,-3.402165821789542e-05,0.0004966517360637633,0.0008190557828370372,-8.017982139522613e-05,-2.743169403783527e-05,0.0004810832226238988,0.0004840801762677878,-8.926472920009901e-06,-0.00034148812330427297,-8.950592574121382e-05,0.00048645469116892156,-8.478698005186097e-05,-0.00042347832158317705,-7.296535777631246e-05])\n",
            "Intercept: -0.5991460286401438\n",
            "+-----+----------+----------------------------------------+\n",
            "|label|prediction|probability                             |\n",
            "+-----+----------+----------------------------------------+\n",
            "|0.0  |0.0       |[0.7151376213452826,0.2848623786547174] |\n",
            "|1.0  |1.0       |[0.22557925799292544,0.7744207420070746]|\n",
            "|1.0  |1.0       |[0.21174734149915908,0.7882526585008409]|\n",
            "|1.0  |1.0       |[0.28335873342117385,0.7166412665788262]|\n",
            "|1.0  |1.0       |[0.23548153095643085,0.7645184690435691]|\n",
            "+-----+----------+----------------------------------------+\n",
            "only showing top 5 rows\n",
            "\n"
          ]
        }
      ]
    }
  ]
}