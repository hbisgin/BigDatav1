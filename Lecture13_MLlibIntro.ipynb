{
  "nbformat": 4,
  "nbformat_minor": 0,
  "metadata": {
    "colab": {
      "provenance": [],
      "authorship_tag": "ABX9TyNZR+riXUtJ9Hww0iuXF80B",
      "include_colab_link": true
    },
    "kernelspec": {
      "name": "python3",
      "display_name": "Python 3"
    },
    "language_info": {
      "name": "python"
    }
  },
  "cells": [
    {
      "cell_type": "markdown",
      "metadata": {
        "id": "view-in-github",
        "colab_type": "text"
      },
      "source": [
        "<a href=\"https://colab.research.google.com/github/hbisgin/BigDatav1/blob/main/Lecture13_MLlibIntro.ipynb\" target=\"_parent\"><img src=\"https://colab.research.google.com/assets/colab-badge.svg\" alt=\"Open In Colab\"/></a>"
      ]
    },
    {
      "cell_type": "code",
      "metadata": {
        "id": "ed7132ba"
      },
      "source": [
        "from pyspark.sql import SparkSession\n",
        "spark = SparkSession.builder.appName(\"StringIndexerExample\").getOrCreate()"
      ],
      "execution_count": null,
      "outputs": []
    },
    {
      "cell_type": "markdown",
      "source": [
        "# One hot encoder example\n",
        "First create a dummy dataframe"
      ],
      "metadata": {
        "id": "L4GNKd0ofW1V"
      }
    },
    {
      "cell_type": "code",
      "source": [
        "from pyspark.sql import SparkSession\n",
        "from pyspark.ml.feature import StringIndexer, OneHotEncoder, VectorAssembler\n",
        "from pyspark.ml import Pipeline\n",
        "\n",
        "# Create Spark session\n",
        "spark = SparkSession.builder \\\n",
        "    .appName(\"OneHotEncodingExample\") \\\n",
        "    .getOrCreate()\n",
        "\n",
        "# Sample data\n",
        "data = [\n",
        "    (0, \"red\", 1.0),\n",
        "    (1, \"blue\", 2.0),\n",
        "    (2, \"green\", 3.0),\n",
        "    (3, \"blue\", 4.0),\n",
        "    (4, \"red\", 5.0),\n",
        "]\n",
        "df = spark.createDataFrame(data, [\"id\", \"color\", \"value\"])\n",
        "df.show()\n"
      ],
      "metadata": {
        "colab": {
          "base_uri": "https://localhost:8080/"
        },
        "id": "P1VYxy5we9ql",
        "outputId": "d15b6d48-730a-4516-a822-39b99dc6b7b8"
      },
      "execution_count": null,
      "outputs": [
        {
          "output_type": "stream",
          "name": "stdout",
          "text": [
            "+---+-----+-----+\n",
            "| id|color|value|\n",
            "+---+-----+-----+\n",
            "|  0|  red|  1.0|\n",
            "|  1| blue|  2.0|\n",
            "|  2|green|  3.0|\n",
            "|  3| blue|  4.0|\n",
            "|  4|  red|  5.0|\n",
            "+---+-----+-----+\n",
            "\n"
          ]
        }
      ]
    },
    {
      "cell_type": "markdown",
      "source": [
        "#Build a pipeline step by step to tackle with the categorical variable, color"
      ],
      "metadata": {
        "id": "7_nUZtiSfe4s"
      }
    },
    {
      "cell_type": "code",
      "source": [
        "\n",
        "\n",
        "# 1. StringIndexer: convert categorical string column → numeric index column, we have seen this\n",
        "indexer = StringIndexer(inputCol=\"color\", outputCol=\"colorIndex\", handleInvalid=\"keep\")\n",
        "model = indexer.fit(df)\n",
        "df_indexed = model.transform(df)\n",
        "df_indexed.show()"
      ],
      "metadata": {
        "colab": {
          "base_uri": "https://localhost:8080/"
        },
        "id": "VDlv-H7wfVT0",
        "outputId": "ad7846e2-a5f8-46f2-a41b-79e348c88509"
      },
      "execution_count": null,
      "outputs": [
        {
          "output_type": "stream",
          "name": "stdout",
          "text": [
            "+---+-----+-----+----------+\n",
            "| id|color|value|colorIndex|\n",
            "+---+-----+-----+----------+\n",
            "|  0|  red|  1.0|       1.0|\n",
            "|  1| blue|  2.0|       0.0|\n",
            "|  2|green|  3.0|       2.0|\n",
            "|  3| blue|  4.0|       0.0|\n",
            "|  4|  red|  5.0|       1.0|\n",
            "+---+-----+-----+----------+\n",
            "\n"
          ]
        }
      ]
    },
    {
      "cell_type": "code",
      "source": [
        "# 2. OneHotEncoder: convert index column → one-hot encoded vector\n",
        "encoder = OneHotEncoder(\n",
        "    inputCols=[\"colorIndex\"],\n",
        "    outputCols=[\"colorVec\"],\n",
        "    dropLast=True,          # default: drop the last category to avoid full collinearity\n",
        "    handleInvalid=\"error\"    # how to treat unseen/invalid categories error vs. keep\n",
        ")\n",
        "model = encoder.fit(df_indexed)\n",
        "df_encoded = model.transform(df_indexed)\n",
        "df_encoded.show()"
      ],
      "metadata": {
        "colab": {
          "base_uri": "https://localhost:8080/"
        },
        "id": "cjuBj2BFf1Mp",
        "outputId": "f32d8a3c-5b94-4b6a-f3b9-9549f006fe75"
      },
      "execution_count": null,
      "outputs": [
        {
          "output_type": "stream",
          "name": "stdout",
          "text": [
            "+---+-----+-----+----------+-------------+\n",
            "| id|color|value|colorIndex|     colorVec|\n",
            "+---+-----+-----+----------+-------------+\n",
            "|  0|  red|  1.0|       1.0|(3,[1],[1.0])|\n",
            "|  1| blue|  2.0|       0.0|(3,[0],[1.0])|\n",
            "|  2|green|  3.0|       2.0|(3,[2],[1.0])|\n",
            "|  3| blue|  4.0|       0.0|(3,[0],[1.0])|\n",
            "|  4|  red|  5.0|       1.0|(3,[1],[1.0])|\n",
            "+---+-----+-----+----------+-------------+\n",
            "\n"
          ]
        }
      ]
    },
    {
      "cell_type": "markdown",
      "source": [
        "Instead of storing every value in the vector, we only store:\n",
        "\n",
        "-the length of the vector,\n",
        "\n",
        "-the indices where non-zero elements appear,\n",
        "\n",
        "-and the values at those positions.\n",
        "\n",
        "This is called a sparse vector.\n",
        "\n",
        "🔹 Example 1: simple one-hot vector\n",
        "\n",
        "For [1, 0, 0]\n",
        "We can write it as:\n",
        "\n",
        "```(3, [0], [1.0])```"
      ],
      "metadata": {
        "id": "aMm8LkojjEyg"
      }
    },
    {
      "cell_type": "code",
      "source": [
        "# 3. (Optional) Combine with numeric features via VectorAssembler\n",
        "assembler = VectorAssembler(\n",
        "    inputCols=[\"colorVec\", \"value\"],\n",
        "    outputCol=\"features\"\n",
        ")\n",
        "assembled = assembler.transform(df_encoded)\n",
        "assembled.show()"
      ],
      "metadata": {
        "colab": {
          "base_uri": "https://localhost:8080/"
        },
        "id": "SUKz6dg3f3i1",
        "outputId": "a8567e27-6cc0-4702-b256-05cf99bf13ba"
      },
      "execution_count": null,
      "outputs": [
        {
          "output_type": "stream",
          "name": "stdout",
          "text": [
            "+---+-----+-----+----------+-------------+-----------------+\n",
            "| id|color|value|colorIndex|     colorVec|         features|\n",
            "+---+-----+-----+----------+-------------+-----------------+\n",
            "|  0|  red|  1.0|       1.0|(3,[1],[1.0])|[0.0,1.0,0.0,1.0]|\n",
            "|  1| blue|  2.0|       0.0|(3,[0],[1.0])|[1.0,0.0,0.0,2.0]|\n",
            "|  2|green|  3.0|       2.0|(3,[2],[1.0])|[0.0,0.0,1.0,3.0]|\n",
            "|  3| blue|  4.0|       0.0|(3,[0],[1.0])|[1.0,0.0,0.0,4.0]|\n",
            "|  4|  red|  5.0|       1.0|(3,[1],[1.0])|[0.0,1.0,0.0,5.0]|\n",
            "+---+-----+-----+----------+-------------+-----------------+\n",
            "\n"
          ]
        }
      ]
    },
    {
      "cell_type": "markdown",
      "source": [
        "Let's do it at once with the help of Pipeline"
      ],
      "metadata": {
        "id": "K4kvK7C1hdBI"
      }
    },
    {
      "cell_type": "code",
      "source": [
        "# Build a pipeline\n",
        "pipeline = Pipeline(stages=[indexer, encoder, assembler])\n",
        "\n",
        "# Fit and transform\n",
        "model = pipeline.fit(df)\n",
        "df_transformed = model.transform(df)\n",
        "\n",
        "df_transformed.select(\"id\", \"color\", \"colorIndex\", \"colorVec\", \"features\").show(truncate=False)\n",
        "\n",
        "\n",
        "# Stop Spark when done\n",
        "# spark.stop()"
      ],
      "metadata": {
        "colab": {
          "base_uri": "https://localhost:8080/"
        },
        "id": "ktvNX9AAf6gM",
        "outputId": "69ddd0f6-1f87-4a93-b2d5-ad682392477c"
      },
      "execution_count": null,
      "outputs": [
        {
          "output_type": "stream",
          "name": "stdout",
          "text": [
            "+---+-----+----------+-------------+-----------------+\n",
            "|id |color|colorIndex|colorVec     |features         |\n",
            "+---+-----+----------+-------------+-----------------+\n",
            "|0  |red  |1.0       |(3,[1],[1.0])|[0.0,1.0,0.0,1.0]|\n",
            "|1  |blue |0.0       |(3,[0],[1.0])|[1.0,0.0,0.0,2.0]|\n",
            "|2  |green|2.0       |(3,[2],[1.0])|[0.0,0.0,1.0,3.0]|\n",
            "|3  |blue |0.0       |(3,[0],[1.0])|[1.0,0.0,0.0,4.0]|\n",
            "|4  |red  |1.0       |(3,[1],[1.0])|[0.0,1.0,0.0,5.0]|\n",
            "+---+-----+----------+-------------+-----------------+\n",
            "\n"
          ]
        }
      ]
    },
    {
      "cell_type": "markdown",
      "source": [
        "# VectorIndexer Example"
      ],
      "metadata": {
        "id": "xQ32CXduZaja"
      }
    },
    {
      "cell_type": "markdown",
      "source": [
        "\n",
        "\n",
        "      - Automatically detects categorical features.\n",
        "      - Encodes them as category indices under the hood.\n",
        "      - Works seamlessly with downstream ML models.\n",
        "\n",
        "    "
      ],
      "metadata": {
        "id": "Qq-i3eP8pyRQ"
      }
    },
    {
      "cell_type": "code",
      "source": [
        "from pyspark.ml.feature import VectorIndexer\n",
        "# Automatically identify categorical features\n",
        "# and index them (features with <= 2 distinct values)\n",
        "indexer = VectorIndexer(\n",
        "    inputCol=\"features\",\n",
        "    outputCol=\"indexedFeatures\",\n",
        "    maxCategories=2  # Features with <=2 distinct values are treated as categorical\n",
        ")\n",
        "\n",
        "# Fit the indexer\n",
        "indexer_model = indexer.fit(assembled)\n",
        "\n",
        "# Transform the data\n",
        "indexed = indexer_model.transform(assembled)\n",
        "\n",
        "indexed.select(\"features\", \"indexedFeatures\").show(truncate=False)"
      ],
      "metadata": {
        "colab": {
          "base_uri": "https://localhost:8080/"
        },
        "id": "WTkntY-CZWcp",
        "outputId": "70d8d60f-8b15-43c0-968d-094770ac60a1"
      },
      "execution_count": null,
      "outputs": [
        {
          "output_type": "stream",
          "name": "stdout",
          "text": [
            "+-----------------+-----------------+\n",
            "|features         |indexedFeatures  |\n",
            "+-----------------+-----------------+\n",
            "|[0.0,1.0,0.0,1.0]|[0.0,1.0,0.0,1.0]|\n",
            "|[1.0,0.0,0.0,2.0]|[1.0,0.0,0.0,2.0]|\n",
            "|[0.0,0.0,1.0,3.0]|[0.0,0.0,1.0,3.0]|\n",
            "|[1.0,0.0,0.0,4.0]|[1.0,0.0,0.0,4.0]|\n",
            "|[0.0,1.0,0.0,5.0]|[0.0,1.0,0.0,5.0]|\n",
            "+-----------------+-----------------+\n",
            "\n"
          ]
        }
      ]
    },
    {
      "cell_type": "code",
      "source": [
        "# \"category1\" and \"category2\" are low-cardinality categorical features\n",
        "# \"numFeature\" is a continuous numeric feature\n",
        "data = spark.createDataFrame([\n",
        "    (0, \"A\", \"X\", 10.0),\n",
        "    (1, \"B\", \"X\", 20.0),\n",
        "    (0, \"A\", \"Y\", 15.0),\n",
        "    (1, \"B\", \"Y\", 25.0),\n",
        "    (0, \"C\", \"X\", 30.0),\n",
        "    (1, \"C\", \"Y\", 35.0)\n",
        "], [\"label\", \"category1\", \"category2\", \"numFeature\"])\n",
        "\n",
        "# Convert string categories to numeric indices first\n",
        "from pyspark.ml.feature import StringIndexer\n",
        "cat1_indexer = StringIndexer(inputCol=\"category1\", outputCol=\"category1Index\")\n",
        "cat2_indexer = StringIndexer(inputCol=\"category2\", outputCol=\"category2Index\")\n",
        "\n",
        "# Assemble all features into a single vector\n",
        "assembler = VectorAssembler(\n",
        "    inputCols=[\"category1Index\", \"category2Index\", \"numFeature\"],\n",
        "    outputCol=\"features\"\n",
        ")\n",
        "\n",
        "\n",
        "\n",
        "# VectorIndexer automatically detects categorical features\n",
        "# Here, features with <= 3 distinct values will be treated as categorical\n",
        "indexer = VectorIndexer(inputCol=\"features\", outputCol=\"indexedFeatures\", maxCategories=3)\n",
        "\n",
        "print(\"Categorical feature indices and their category counts:\")\n",
        "print(indexer_model.categoryMaps)\n",
        "\n",
        "# Features at positions 0, 1, and 2 in the feature vector are categorical with two categories each — values 0.0 and 1.0 —\n",
        "# and they’ve been internally mapped to indices 0 and 1.”"
      ],
      "metadata": {
        "colab": {
          "base_uri": "https://localhost:8080/"
        },
        "id": "Bv7SqnVGxgba",
        "outputId": "097aed3b-407d-42db-ef6e-1781765dd6ab"
      },
      "execution_count": null,
      "outputs": [
        {
          "output_type": "stream",
          "name": "stdout",
          "text": [
            "Categorical feature indices and their category counts:\n",
            "{0: {0.0: 0, 1.0: 1}, 1: {0.0: 0, 1.0: 1}, 2: {0.0: 0, 1.0: 1}}\n"
          ]
        }
      ]
    },
    {
      "cell_type": "markdown",
      "source": [
        "# R formula"
      ],
      "metadata": {
        "id": "a4AD9dgTtu5o"
      }
    },
    {
      "cell_type": "code",
      "source": [
        "\n",
        "data = [\n",
        "    (\"red\", 1.0, 10.0, 0.0),\n",
        "    (\"blue\", 2.0, 20.0, 1.0),\n",
        "    (\"green\", 3.0, 30.0, 0.0),\n",
        "    (\"red\", 4.0, 40.0, 1.0)\n",
        "]\n",
        "\n",
        "drf = spark.createDataFrame(data, [\"color\", \"value1\", \"value2\", \"label\"])\n",
        "drf.show()\n"
      ],
      "metadata": {
        "id": "2Yt1GHhStuS1"
      },
      "execution_count": null,
      "outputs": []
    },
    {
      "cell_type": "code",
      "source": [
        "from pyspark.ml.feature import RFormula\n",
        "\n",
        "formula = RFormula(\n",
        "    formula=\"label ~ . + color:value1\"\n",
        ")\n",
        "model = formula.fit(drf)\n",
        "output = model.transform(drf)\n",
        "output.show()"
      ],
      "metadata": {
        "id": "befhUz8UuLut"
      },
      "execution_count": null,
      "outputs": []
    },
    {
      "cell_type": "markdown",
      "source": [
        "# Sample data"
      ],
      "metadata": {
        "id": "IvdKzoW-fj_t"
      }
    },
    {
      "cell_type": "code",
      "source": [
        "!wget https://raw.githubusercontent.com/databricks/Spark-The-Definitive-Guide/refs/heads/master/data/sample_libsvm_data.txt"
      ],
      "metadata": {
        "colab": {
          "base_uri": "https://localhost:8080/"
        },
        "id": "GBCwrNODftp7",
        "outputId": "43d3378d-6f3e-417f-ce3b-ff1c78b6248d"
      },
      "execution_count": null,
      "outputs": [
        {
          "output_type": "stream",
          "name": "stdout",
          "text": [
            "shell-init: error retrieving current directory: getcwd: cannot access parent directories: No such file or directory\n",
            "--2025-10-07 22:57:09--  https://raw.githubusercontent.com/databricks/Spark-The-Definitive-Guide/refs/heads/master/data/sample_libsvm_data.txt\n",
            "Resolving raw.githubusercontent.com (raw.githubusercontent.com)... 185.199.110.133, 185.199.109.133, 185.199.111.133, ...\n",
            "Connecting to raw.githubusercontent.com (raw.githubusercontent.com)|185.199.110.133|:443... connected.\n",
            "HTTP request sent, awaiting response... 200 OK\n",
            "Length: 104736 (102K) [text/plain]\n",
            "sample_libsvm_data.txt: No such file or directory\n",
            "\n",
            "Cannot write to ‘sample_libsvm_data.txt’ (Success).\n"
          ]
        }
      ]
    },
    {
      "cell_type": "code",
      "source": [
        "sdf = spark.read.format(\"libsvm\").load(\"/content/sample_libsvm_data.txt\")"
      ],
      "metadata": {
        "id": "Bnjw1lN-fn-p"
      },
      "execution_count": null,
      "outputs": []
    },
    {
      "cell_type": "code",
      "source": [
        "sdf.show()"
      ],
      "metadata": {
        "colab": {
          "base_uri": "https://localhost:8080/"
        },
        "id": "K18CGF3ngjZS",
        "outputId": "f9b335da-2ca2-4b9b-c235-8549f7383843"
      },
      "execution_count": null,
      "outputs": [
        {
          "output_type": "stream",
          "name": "stdout",
          "text": [
            "+-----+--------------------+\n",
            "|label|            features|\n",
            "+-----+--------------------+\n",
            "|  0.0|(692,[127,128,129...|\n",
            "|  1.0|(692,[158,159,160...|\n",
            "|  1.0|(692,[124,125,126...|\n",
            "|  1.0|(692,[152,153,154...|\n",
            "|  1.0|(692,[151,152,153...|\n",
            "|  0.0|(692,[129,130,131...|\n",
            "|  1.0|(692,[158,159,160...|\n",
            "|  1.0|(692,[99,100,101,...|\n",
            "|  0.0|(692,[154,155,156...|\n",
            "|  0.0|(692,[127,128,129...|\n",
            "|  1.0|(692,[154,155,156...|\n",
            "|  0.0|(692,[153,154,155...|\n",
            "|  0.0|(692,[151,152,153...|\n",
            "|  1.0|(692,[129,130,131...|\n",
            "|  0.0|(692,[154,155,156...|\n",
            "|  1.0|(692,[150,151,152...|\n",
            "|  0.0|(692,[124,125,126...|\n",
            "|  0.0|(692,[152,153,154...|\n",
            "|  1.0|(692,[97,98,99,12...|\n",
            "|  1.0|(692,[124,125,126...|\n",
            "+-----+--------------------+\n",
            "only showing top 20 rows\n",
            "\n"
          ]
        }
      ]
    },
    {
      "cell_type": "markdown",
      "source": [
        "Import the LogisticRegression class\n",
        "Define (instantiate) the logistic regression estimator\n",
        "\n"
      ],
      "metadata": {
        "id": "7mv8p2CExKmy"
      }
    },
    {
      "cell_type": "code",
      "source": [
        "from pyspark.ml.classification import LogisticRegression\n",
        "\n",
        "lr = LogisticRegression(\n",
        "    labelCol=\"label\",       # column containing true labels\n",
        "    featuresCol=\"features\", # column containing feature vectors\n",
        "    maxIter=10,             # number of optimization iterations\n",
        "    regParam=0.3,           # regularization strength\n",
        "    elasticNetParam=0.8     # ElasticNet mixing (0=L2, 1=L1)\n",
        ")"
      ],
      "metadata": {
        "id": "smcajnjxxBL6"
      },
      "execution_count": null,
      "outputs": []
    },
    {
      "cell_type": "code",
      "source": [
        "lr.explainParams()"
      ],
      "metadata": {
        "colab": {
          "base_uri": "https://localhost:8080/",
          "height": 122
        },
        "id": "8O-C2csExCGx",
        "outputId": "a02b127a-1e0f-4712-c8e9-1a972549bfe2"
      },
      "execution_count": null,
      "outputs": [
        {
          "output_type": "execute_result",
          "data": {
            "text/plain": [
              "\"aggregationDepth: suggested depth for treeAggregate (>= 2). (default: 2)\\nelasticNetParam: the ElasticNet mixing parameter, in range [0, 1]. For alpha = 0, the penalty is an L2 penalty. For alpha = 1, it is an L1 penalty. (default: 0.0, current: 0.8)\\nfamily: The name of family which is a description of the label distribution to be used in the model. Supported options: auto, binomial, multinomial (default: auto)\\nfeaturesCol: features column name. (default: features, current: features)\\nfitIntercept: whether to fit an intercept term. (default: True)\\nlabelCol: label column name. (default: label, current: label)\\nlowerBoundsOnCoefficients: The lower bounds on coefficients if fitting under bound constrained optimization. The bound matrix must be compatible with the shape (1, number of features) for binomial regression, or (number of classes, number of features) for multinomial regression. (undefined)\\nlowerBoundsOnIntercepts: The lower bounds on intercepts if fitting under bound constrained optimization. The bounds vector size must beequal with 1 for binomial regression, or the number oflasses for multinomial regression. (undefined)\\nmaxBlockSizeInMB: maximum memory in MB for stacking input data into blocks. Data is stacked within partitions. If more than remaining data size in a partition then it is adjusted to the data size. Default 0.0 represents choosing optimal value, depends on specific algorithm. Must be >= 0. (default: 0.0)\\nmaxIter: max number of iterations (>= 0). (default: 100, current: 10)\\npredictionCol: prediction column name. (default: prediction)\\nprobabilityCol: Column name for predicted class conditional probabilities. Note: Not all models output well-calibrated probability estimates! These probabilities should be treated as confidences, not precise probabilities. (default: probability)\\nrawPredictionCol: raw prediction (a.k.a. confidence) column name. (default: rawPrediction)\\nregParam: regularization parameter (>= 0). (default: 0.0, current: 0.3)\\nstandardization: whether to standardize the training features before fitting the model. (default: True)\\nthreshold: Threshold in binary classification prediction, in range [0, 1]. If threshold and thresholds are both set, they must match.e.g. if threshold is p, then thresholds must be equal to [1-p, p]. (default: 0.5)\\nthresholds: Thresholds in multi-class classification to adjust the probability of predicting each class. Array must have length equal to the number of classes, with values > 0, excepting that at most one value may be 0. The class with largest value p/t is predicted, where p is the original probability of that class and t is the class's threshold. (undefined)\\ntol: the convergence tolerance for iterative algorithms (>= 0). (default: 1e-06)\\nupperBoundsOnCoefficients: The upper bounds on coefficients if fitting under bound constrained optimization. The bound matrix must be compatible with the shape (1, number of features) for binomial regression, or (number of classes, number of features) for multinomial regression. (undefined)\\nupperBoundsOnIntercepts: The upper bounds on intercepts if fitting under bound constrained optimization. The bound vector size must be equal with 1 for binomial regression, or the number of classes for multinomial regression. (undefined)\\nweightCol: weight column name. If this is not set or empty, we treat all instance weights as 1.0. (undefined)\""
            ],
            "application/vnd.google.colaboratory.intrinsic+json": {
              "type": "string"
            }
          },
          "metadata": {},
          "execution_count": 37
        }
      ]
    },
    {
      "cell_type": "code",
      "source": [
        "\n",
        "# Fit the model to your data (train)\n",
        "lr_model = lr.fit(sdf)\n",
        "\n",
        "# Inspect model summary and coefficients\n",
        "print(\"Coefficients:\", lr_model.coefficients)\n",
        "print(\"Intercept:\", lr_model.intercept)\n",
        "\n",
        "# Make predictions\n",
        "predictions = lr_model.transform(sdf)\n",
        "predictions.select(\"label\", \"prediction\", \"probability\").show(5, truncate=False)\n"
      ],
      "metadata": {
        "colab": {
          "base_uri": "https://localhost:8080/"
        },
        "id": "vcng2Fbuwx62",
        "outputId": "bdaa4291-a535-4237-e39f-9791ff1e2059"
      },
      "execution_count": null,
      "outputs": [
        {
          "output_type": "stream",
          "name": "stdout",
          "text": [
            "Coefficients: (692,[272,300,323,350,351,378,379,405,406,407,428,433,434,435,455,456,461,462,483,484,489,490,496,511,512,517,539,540,568],[-7.520689871384125e-05,-8.115773146847006e-05,3.814692771846427e-05,0.0003776490540424338,0.0003405148366194403,0.0005514455157343107,0.0004085386116096912,0.0004197467332749452,0.0008119171358670031,0.000502770837266875,-2.3929260406600902e-05,0.0005745048020902297,0.0009037546426803677,7.818229700243899e-05,-2.1787551952911914e-05,-3.402165821789542e-05,0.0004966517360637633,0.0008190557828370372,-8.017982139522613e-05,-2.743169403783527e-05,0.0004810832226238988,0.0004840801762677878,-8.926472920009901e-06,-0.00034148812330427297,-8.950592574121382e-05,0.00048645469116892156,-8.478698005186097e-05,-0.00042347832158317705,-7.296535777631246e-05])\n",
            "Intercept: -0.5991460286401438\n",
            "+-----+----------+----------------------------------------+\n",
            "|label|prediction|probability                             |\n",
            "+-----+----------+----------------------------------------+\n",
            "|0.0  |0.0       |[0.7151376213452826,0.2848623786547174] |\n",
            "|1.0  |1.0       |[0.22557925799292544,0.7744207420070746]|\n",
            "|1.0  |1.0       |[0.21174734149915908,0.7882526585008409]|\n",
            "|1.0  |1.0       |[0.28335873342117385,0.7166412665788262]|\n",
            "|1.0  |1.0       |[0.23548153095643085,0.7645184690435691]|\n",
            "+-----+----------+----------------------------------------+\n",
            "only showing top 5 rows\n",
            "\n"
          ]
        }
      ]
    },
    {
      "cell_type": "markdown",
      "source": [
        "# With Pipeline"
      ],
      "metadata": {
        "id": "yeIDYYc1v4KR"
      }
    },
    {
      "cell_type": "code",
      "source": [
        "from pyspark.ml import Pipeline\n",
        "\n",
        "\n",
        "# Define model stage\n",
        "lr = LogisticRegression().setLabelCol(\"label\").setFeaturesCol(\"features\")\n",
        "\n",
        "# Create a pipeline with just the model stage\n",
        "pipeline = Pipeline(stages=[lr])\n",
        "\n",
        "# Fit the pipeline to your prepared data\n",
        "pipelineModel = pipeline.fit(sdf)\n",
        "\n",
        "# Access the trained Logistic Regression model\n",
        "lr_model = pipelineModel.stages[0]\n",
        "print(\"Coefficients:\", lr_model.coefficients)\n",
        "print(\"Intercept:\", lr_model.intercept)\n",
        "\n",
        "# Make predictions\n",
        "predictions = pipelineModel.transform(sdf)\n",
        "predictions.select(\"label\", \"prediction\", \"probability\").show(5, truncate=False)\n",
        "\n",
        "spark.stop()\n"
      ],
      "metadata": {
        "colab": {
          "base_uri": "https://localhost:8080/"
        },
        "id": "G6vKb_1Iv68X",
        "outputId": "00aa420f-70a1-49f2-fae0-82cefdb0f776"
      },
      "execution_count": null,
      "outputs": [
        {
          "output_type": "stream",
          "name": "stdout",
          "text": [
            "Coefficients: (692,[95,96,97,98,99,100,101,102,119,120,121,122,123,124,125,126,127,128,129,130,131,132,133,146,147,148,149,150,151,152,153,154,155,156,157,158,159,160,161,162,163,164,174,175,176,177,178,179,180,181,182,183,184,185,186,187,188,189,190,191,192,202,203,204,205,206,207,208,209,210,211,212,213,214,215,216,217,218,219,220,229,230,231,232,233,234,235,236,237,238,239,240,241,242,243,244,245,246,247,248,257,258,259,260,261,262,263,264,265,266,267,268,269,270,271,272,273,274,275,276,285,286,287,288,289,290,291,292,293,294,295,296,297,298,299,300,301,302,303,304,313,314,315,316,317,318,319,320,321,322,323,324,325,326,327,328,329,330,331,332,341,342,343,344,345,346,347,348,349,350,351,352,353,354,355,356,357,358,359,360,369,370,371,372,373,374,375,376,377,378,379,380,381,382,383,384,385,386,387,388,396,397,398,399,400,401,402,403,404,405,406,407,408,409,410,411,412,413,414,415,416,424,425,426,427,428,429,430,431,432,433,434,435,436,437,438,439,440,441,442,443,444,452,453,454,455,456,457,458,459,460,461,462,463,464,465,466,467,468,469,470,471,472,480,481,482,483,484,485,486,487,488,489,490,491,492,493,494,495,496,497,498,499,500,508,509,510,511,512,513,514,515,516,517,518,519,520,521,522,523,524,525,526,527,528,536,537,538,539,540,541,542,543,544,545,546,547,548,549,550,551,552,553,554,555,556,564,565,566,567,568,569,570,571,572,573,574,575,576,577,578,579,580,581,582,583,592,593,594,595,596,597,598,599,600,601,602,603,604,605,606,607,608,609,610,611,614,620,621,622,623,624,625,626,627,628,629,630,631,632,633,634,635,636,637,638,649,650,651,652,653,654,655,656,657,658,659,660,661,662,663,664,665,666,678,679,680,681,682,683,684,685,686,687,688,689,690,691],[0.0011070093601714263,0.00025098187922914923,0.011083782844880668,0.014844706321657068,0.010827658536592412,0.00413618729820798,-0.01690455436409577,-0.023279320920243502,0.012465117086849026,0.0041878851872812935,0.007302252154521877,0.0006599683720958147,-0.0002661321704149527,0.001648184597680559,0.0009801270577945137,0.0006731319069565006,0.0007135830501452061,0.00043325480629846793,-0.0021519186961275615,-0.00018313608315239892,0.0025935558289652875,0.004324275473792985,0.004987163260218874,0.012921157955880084,0.004396410590797374,0.003615169303143959,0.0019051820367802321,-0.0003880855808003813,-0.0003514759245365904,0.000491134662562718,-0.0007044860339270717,-0.002429130394032649,-0.00222032298142914,-0.001654545367451477,-0.0010890645824066533,-0.0009166154310015197,0.00020760860315010237,0.0016690037939853563,0.001003512438237945,0.0029757487329984313,0.003214986081132301,0.01951955834973185,0.006054485442183812,0.0017057786271158417,-0.0015563653227280171,-0.0013821926355017259,0.00018088752218284337,-7.061222008184733e-05,-0.0009385209219897815,-0.0006443784612419684,-0.0008496721975047694,0.0011265332997024158,-6.820341833130704e-06,-0.0003714203742492283,-0.0007676946982035153,-0.00040231660098790186,-6.457740237833233e-05,0.0004219923094777346,0.002148108895484103,0.0010930952675849836,0.001871738471892093,-0.011292985925750204,-0.001972592968517514,-0.0011185070659475535,-0.0003090521690075329,0.0007737898537154578,-0.0016025077265830483,-0.001435721524048729,-0.0002450525978510244,0.0014229217013604634,0.0027302933657101865,0.0008484198510098271,-0.0012048697919177515,-0.001207680265635224,-0.00025858691697159056,-0.00015935360942430734,0.001323608099835213,0.004843134314458141,0.0012095152809694343,0.0010930952675849836,-0.013019875876458859,-0.003973967231301051,-0.0022030177665640564,-0.0004392498385991818,0.0014442390099541002,-0.00046214241888253225,-0.0027535469384084316,-0.0007200048099530366,0.0013616428239232883,0.0011404465877427957,0.0002604755422411892,-0.0013201867767212608,-0.0008421968605868815,-0.0019569633367092615,-0.0006552940338721416,-0.0004970552580170494,-0.00014181733359706292,0.001301800785333617,-0.000840831641419378,0.000857387384331305,-0.0008942201301904877,-0.0022527296263064054,-0.0017686126184525105,0.00017727613631726878,-9.56233517841979e-05,-0.0020693848189992582,-0.0029854327264283824,0.0001241694155247178,0.0008310828077964673,-0.00018317845168560473,2.5735568609621843e-07,-0.0009414797183629476,4.685483846427551e-05,-0.0009050273691333773,-0.0023767932195119207,-0.002748256530855216,-0.002791742246454117,-0.0012539382086076709,-0.0004892801467399516,-0.0011919942582525594,-0.005560781197286686,-0.0020057050336382055,-0.0011124034308673024,-0.00013822795843419723,-0.0011266046809275186,-0.002948900303711371,-0.001128075730396322,0.0010420427204368323,0.00012752084288532742,0.0017336418083842826,0.0012435151845164019,9.88056278680046e-05,0.001405938789307683,0.000528705835692585,-0.0020305705045477727,-0.002770332207272758,-0.0031751512024584547,-0.0026031579403005996,-0.004859342623578289,-0.002188595615925037,-0.0010476380016739377,-0.0019221300562313856,-0.0008459507852870221,0.0001507185081992398,-0.0008549673050534169,-0.0014765909743329742,-0.0008156430966465809,0.00039641029000156034,0.0006253725883389837,0.001656810480824813,0.0012956667352413773,0.0008103990490794802,0.0016560485671235378,0.001013624658070773,-0.003530968054405485,-0.0029487452974465266,-0.0016613116377013038,-0.0020347205506593222,-0.004045915512032949,-0.006023378436311468,-0.0014196777417298792,-0.0017289570945782863,0.0013535844661841882,0.0007002600738739731,-0.0007507994061041516,-0.0020443254968399217,-0.00032112005971309616,-0.00010649485416626848,0.0006269818674426318,0.0029394932867772366,0.0018965050942794906,0.002017113754459055,0.0020345181929895006,-0.0013469142136782928,-0.0043413174032531955,-0.0029671953542108466,-0.0016307478036692667,-0.0007132718908716306,-0.0027566301237412,-0.0061259500380902296,-0.003193179968126358,-0.0004779742319586218,0.000471834318908042,-0.0018781379202795793,-0.00214772633957412,-0.002291029032266272,-0.0009101993158144805,-0.0006710430675258001,0.0021389126208683773,0.003234586979777932,0.00204504309532578,0.0018328498006491745,0.0023314249984118076,-0.003549410977877288,-0.003450381099141826,-0.002952441536680022,-0.002160240384688283,-0.0008034822491112344,-0.0019557755900989544,-0.005827041203244092,-0.001141327087829509,-0.003469257829810294,-0.0011786830576024129,-0.0008159721913555453,-0.002361488710286499,-0.002282829174430884,-0.002599935327325969,-0.0017420482514608053,0.0003831134528192831,0.002756799188356366,0.0032361109936007524,0.0024261340946710687,0.0013736318031962846,0.0023644111071837526,-0.004412735220990346,-0.0024459675687477493,-0.0030462512076951448,-0.0029542584591446047,-0.0006157913699881675,-0.0016547870800853123,-0.005303725278737437,0.0008569759298774588,-0.004170411007320322,-0.0015504551976474666,-0.0010733871310049125,-0.002275852502134804,-0.0025293709424997666,-0.0031500897894412468,-0.0029689895043606357,0.0011037579851013834,0.003328115320107291,0.003497323334883728,0.0016126872964692773,0.0035394014820885164,0.0002679866881511966,-0.004648187506845542,-0.0023197755723286394,-0.0033892029370780714,-0.0024142323641353283,-0.00155146790048858,-0.0027233928186949823,-0.004289998813697961,0.004233923879049025,-0.003488051150853613,-0.0017772049445465032,-0.0012995805743911445,-0.0025445003285116344,-0.0024252287271162923,-0.0031201264067989586,0.00013582901464736691,0.0015175968302539309,0.002928961963718067,0.003070350679897402,0.0002534229872826734,0.0012104792869844683,0.0015262956084898935,-0.0037742774117899636,-0.002740001584043636,-0.0031156330109381046,-0.0036273909382237624,-0.002433664982101548,-0.0012958608828785682,-0.0005256860172920552,0.000736042820843592,-0.0031032920913941758,-0.001894267642296076,-0.0011696765106971529,-0.0024865315745345833,-0.0026113055692155536,-0.003520828621296911,-0.00016047434562488496,0.0009091847285081481,0.0027954499580733747,0.00220847013451316,0.0009124282439811093,0.002488957726975235,-0.000851843443166171,-0.0024785156632175466,-0.002154726201548623,-0.004099910361097086,-0.003788281953008644,-0.0010536806927304181,-0.00013307468223693367,0.00011805912626561414,0.0023310205088194697,-0.0017390687297438043,-0.0026478889103485046,-0.0017230824879080626,-0.002240227402347159,-0.0016216971722939233,-0.001252750318210302,-0.0011039692345950099,0.001551777843651889,0.0034114499985694515,0.001843394706255927,0.0013533072561422073,0.0007020102977824273,-0.00330488754205569,-0.003327217285206267,-0.002694173303822708,-0.002245767976914187,2.5459195081452543e-05,-0.0002106306022867973,-0.0006609087308737004,-0.0002632315363414567,0.0025198434337045045,-0.0010072509473346635,-0.002001214077754329,-0.002591099224565575,-0.0030665323456446256,-0.0009010481962466204,0.0009630819895282449,-0.00013373164173203096,0.0018075150162922837,0.0025836100005868926,0.001805482179304682,0.0011057866859801634,-0.0017544460458658966,-0.002013505654222584,-0.000676747638698805,-9.580005858557403e-06,0.0002888934019420409,0.0011914714141854747,-0.000532148595745014,-0.0007871142416810882,-0.0010274897272518216,0.0027046078633028627,-0.0002563990265356488,-0.0004130586269252113,-0.000554141691112986,-0.0020680865050091164,-0.001768226221880973,-0.0002887997001638422,-0.000832007278529367,-0.0005098500240968276,0.0007253980708094006,0.0011414557415412852,0.0004697410342065847,-0.0008372148075280941,-0.0009248741487407025,0.001517373907150303,-0.0006617926391478471,0.0008601779787942332,0.0005100363734171489,-0.0009209826138282555,-0.00029516055666650476,0.0018847613619714801,0.0010970584104501714,0.003957389890673411,0.001769051055337792,0.00022824044564285362,-0.0009375703158486661,-0.0005116883966156015,-0.0008764545829369571,-0.0011054566013010663,-0.0003651945776936063,-0.0005382834671855425,0.00019989847111936593,-0.00024318638773124308,0.00061363090496973,-0.0007566792985128596,-0.0007242221043466132,-1.970162730072935e-05,-0.000630808556221564,-0.0017295002343296713,0.0014435181949518552,-0.008293455884933526,0.0022191545068373877,0.000880273538171161,0.008987407568193564,0.004778205523927064,0.0022304123954967983,0.0005894855092685756,-0.0008617804887294517,-0.0002782757638121829,-0.00021178167728997207,-0.0013563958509267482,-0.0018151387028971702,7.311461096694147e-05,9.405100049458531e-05,-0.00038577602966373523,0.0002860076890503538,0.0005416406669180435,-0.0005768811367751419,-0.0008393381215518862,0.0014782458401478866,0.0016576816798062426,0.002878315905087731,0.004462139740300168,0.0030842516915611023,0.0021133072763026917,0.00044649860058050984,-0.0010094588569159067,-0.000978378261799703,-0.002154660529692795,-0.0018633805100787195,-0.0018774809512212723,-0.0018348266633185356,-0.000622081487095681,0.0004817014410050191,-0.00014204074331614994,-9.626377886198822e-05,0.004169522821472816,0.02527539498076975,0.00540531649723721,0.00083290456618229,0.0011527160431871503,0.0017855074716678864,0.0006480411472314026,-0.00023678206538466936,-0.0027122666995923585,-0.0045058473120699015,-0.0021530386071037574,-0.0014393921698569107,-0.003936302956221702,-0.0034571146961424894,-0.004771127954680512,-0.008888500557163224])\n",
            "Intercept: 9.250831966638948\n",
            "+-----+----------+------------------------------------------+\n",
            "|label|prediction|probability                               |\n",
            "+-----+----------+------------------------------------------+\n",
            "|0.0  |0.0       |[0.9999999985872996,1.4127004011044164E-9]|\n",
            "|1.0  |1.0       |[6.765503800015609E-10,0.9999999993234496]|\n",
            "|1.0  |1.0       |[4.878426787158314E-11,0.9999999999512157]|\n",
            "|1.0  |1.0       |[4.621372872987228E-9,0.9999999953786272] |\n",
            "|1.0  |1.0       |[1.8182362911343714E-9,0.9999999981817637]|\n",
            "+-----+----------+------------------------------------------+\n",
            "only showing top 5 rows\n",
            "\n"
          ]
        }
      ]
    },
    {
      "cell_type": "markdown",
      "source": [
        "# Parameter grid search example for logistic regression case"
      ],
      "metadata": {
        "id": "i4sQCuKi2G6A"
      }
    },
    {
      "cell_type": "code",
      "source": [
        "from pyspark.sql import SparkSession\n",
        "from pyspark.ml.classification import LogisticRegression\n",
        "from pyspark.ml.feature import RFormula\n",
        "from pyspark.ml import Pipeline\n",
        "from pyspark.ml.tuning import ParamGridBuilder, TrainValidationSplit, TrainValidationSplitModel\n",
        "from pyspark.ml.evaluation import BinaryClassificationEvaluator\n",
        "from pyspark.sql.functions import col\n",
        "\n",
        "# -------------------------------------------------------------\n",
        "# 1. Start Spark session\n",
        "# -------------------------------------------------------------\n",
        "spark = SparkSession.builder.appName(\"PipelineExample\").getOrCreate()\n",
        "\n",
        "# Load the sample dataset (comes with Spark)\n",
        "data = spark.read.format(\"libsvm\").load(\"/content/sample_libsvm_data.txt\")\n",
        "\n",
        "# Split into training and test sets\n",
        "train, test = data.randomSplit([0.7, 0.3], seed=42)\n",
        "\n"
      ],
      "metadata": {
        "id": "yPaureqL2AUN"
      },
      "execution_count": null,
      "outputs": []
    },
    {
      "cell_type": "code",
      "source": [
        "# -------------------------------------------------------------\n",
        "# 2. Define the base stages\n",
        "# -------------------------------------------------------------\n",
        "# Rename the existing 'features' column to avoid conflict with RFormula's output 'features' column\n",
        "rename_features = data.withColumnRenamed(\"features\", \"originalFeatures\")\n",
        "\n",
        "# Update train and test dataframes with the renamed column\n",
        "train = train.withColumnRenamed(\"features\", \"originalFeatures\")\n",
        "test = test.withColumnRenamed(\"features\", \"originalFeatures\")\n",
        "\n",
        "\n",
        "# RFormula will now output 'features' without conflict\n",
        "# Update the formula to use the renamed column\n",
        "rForm = RFormula(formula=\"label ~ originalFeatures\")\n",
        "lr = LogisticRegression(labelCol=\"label\", featuresCol=\"features\") # Logistic Regression expects 'features' column\n",
        "\n",
        "# Create the pipeline\n",
        "pipeline = Pipeline(stages=[rForm, lr])\n",
        "\n"
      ],
      "metadata": {
        "id": "UImhm4in2rKN"
      },
      "execution_count": null,
      "outputs": []
    },
    {
      "cell_type": "code",
      "source": [
        "# -------------------------------------------------------------\n",
        "# 3. Define the parameter grid for hyperparameter tuning\n",
        "# -------------------------------------------------------------\n",
        "paramGrid = (\n",
        "    ParamGridBuilder()\n",
        "    .addGrid(rForm.formula, [\n",
        "        \"label ~ originalFeatures\",\n",
        "        \"label ~ originalFeatures + originalFeatures:originalFeatures\"  # synthetic variation example\n",
        "    ])\n",
        "    .addGrid(lr.elasticNetParam, [0.0, 0.5, 1.0])  # L2, mixed, L1\n",
        "    .addGrid(lr.regParam, [0.1, 2.0])\n",
        "    .build()\n",
        ")\n",
        "\n"
      ],
      "metadata": {
        "id": "_XLLDfkK24ib"
      },
      "execution_count": null,
      "outputs": []
    },
    {
      "cell_type": "code",
      "source": [
        "# -------------------------------------------------------------\n",
        "# 4. Define evaluator\n",
        "# -------------------------------------------------------------\n",
        "evaluator = (\n",
        "    BinaryClassificationEvaluator()\n",
        "    .setMetricName(\"areaUnderROC\")\n",
        "    .setRawPredictionCol(\"prediction\")\n",
        "    .setLabelCol(\"label\")\n",
        ")\n",
        "\n"
      ],
      "metadata": {
        "id": "CdWvpiCd2uq6"
      },
      "execution_count": null,
      "outputs": []
    },
    {
      "cell_type": "code",
      "source": [
        "# -------------------------------------------------------------\n",
        "# 5. Define TrainValidationSplit for model selection\n",
        "# -------------------------------------------------------------\n",
        "tvs = (\n",
        "    TrainValidationSplit()\n",
        "    .setEstimator(pipeline)\n",
        "    .setEvaluator(evaluator)\n",
        "    .setEstimatorParamMaps(paramGrid)\n",
        "    .setTrainRatio(0.75)  # 75% training, 25% validation\n",
        ")\n",
        "\n"
      ],
      "metadata": {
        "id": "g3_UAxJz3Bxx"
      },
      "execution_count": null,
      "outputs": []
    },
    {
      "cell_type": "code",
      "source": [
        "# -------------------------------------------------------------\n",
        "# 6. Fit the pipeline with hyperparameter tuning\n",
        "# -------------------------------------------------------------\n",
        "tvsFitted = tvs.fit(train)\n",
        "\n",
        "# Evaluate the best model on the test set\n",
        "auc = evaluator.evaluate(tvsFitted.transform(test))\n",
        "print(f\"Test AUC: {auc:.4f}\")"
      ],
      "metadata": {
        "colab": {
          "base_uri": "https://localhost:8080/"
        },
        "id": "xe265jmN3lr4",
        "outputId": "ff319719-68e7-44fe-eab9-fc30a4942158"
      },
      "execution_count": null,
      "outputs": [
        {
          "output_type": "stream",
          "name": "stdout",
          "text": [
            "Test AUC: 0.9424\n"
          ]
        }
      ]
    },
    {
      "cell_type": "code",
      "source": [
        "# -------------------------------------------------------------\n",
        "# 7. Inspect the best model and its training summary\n",
        "# -------------------------------------------------------------\n",
        "bestPipeline = tvsFitted.bestModel\n",
        "# The last stage might be LogisticRegression, but depending on the formula,\n",
        "# the RFormula might be the last stage if it doesn't include the label.\n",
        "# In this case, the LogisticRegression is the last stage as the formula includes label.\n",
        "bestLR = bestPipeline.stages[-1]\n",
        "print(\"Best model parameters:\")\n",
        "print(\"  ElasticNetParam:\", bestLR.getElasticNetParam())\n",
        "print(\"  RegParam:\", bestLR.getRegParam())\n",
        "# Coefficients and intercept are not directly available on the bestLR model\n",
        "# obtained from TrainValidationSplitModel. We need to access the fitted LR model\n",
        "# within the bestPipeline's stages.\n",
        "\n",
        "# Correctly access the fitted Logistic Regression model from the best pipeline\n",
        "fittedLrModel = bestPipeline.stages[-1] # Assuming LR is the last stage\n",
        "\n",
        "# Check if the fitted model has coefficients and intercept\n",
        "if hasattr(fittedLrModel, \"coefficients\"):\n",
        "    print(\"  Coefficients:\", fittedLrModel.coefficients)\n",
        "if hasattr(fittedLrModel, \"intercept\"):\n",
        "    print(\"  Intercept:\", fittedLrModel.intercept)\n",
        "\n",
        "# Training summary (if available) - access from the fitted LR model\n",
        "if hasattr(fittedLrModel, \"summary\"):\n",
        "    print(\"Objective history:\", fittedLrModel.summary.objectiveHistory)"
      ],
      "metadata": {
        "colab": {
          "base_uri": "https://localhost:8080/"
        },
        "id": "b-JQANJE3qVJ",
        "outputId": "28f1774e-8244-48be-a835-622ce2a27963"
      },
      "execution_count": null,
      "outputs": [
        {
          "output_type": "stream",
          "name": "stdout",
          "text": [
            "Best model parameters:\n",
            "  ElasticNetParam: 0.0\n",
            "  RegParam: 0.1\n",
            "  Coefficients: (692,[95,96,97,98,99,100,101,121,122,123,124,125,126,127,128,129,130,131,132,133,148,149,150,151,152,153,154,155,156,157,158,159,160,161,162,175,176,177,178,179,180,181,182,183,184,185,186,187,188,189,190,202,203,204,205,206,207,208,209,210,211,212,213,214,215,216,217,218,219,229,230,231,232,233,234,235,236,237,238,239,240,241,242,243,244,245,246,247,248,257,258,259,260,261,262,263,264,265,266,267,268,269,270,271,272,273,274,275,276,285,286,287,288,289,290,291,292,293,294,295,296,297,298,299,300,301,302,303,304,313,314,315,316,317,318,319,320,321,322,323,324,325,326,327,328,329,330,331,332,341,342,343,344,345,346,347,348,349,350,351,352,353,354,355,356,357,358,359,360,369,370,371,372,373,374,375,376,377,378,379,380,381,382,383,384,385,386,387,388,396,397,398,399,400,401,402,403,404,405,406,407,408,409,410,411,412,413,414,415,416,424,425,426,427,428,429,430,431,432,433,434,435,436,437,438,439,440,441,442,443,444,452,453,454,455,456,457,458,459,460,461,462,463,464,465,466,467,468,469,470,471,472,480,481,482,483,484,485,486,487,488,489,490,491,492,493,494,495,496,497,498,499,500,508,509,510,511,512,513,514,515,516,517,518,519,520,521,522,523,524,525,526,527,528,536,537,538,539,540,541,542,543,544,545,546,547,548,549,550,551,552,553,554,555,556,564,565,566,567,568,569,570,571,572,573,574,575,576,577,578,579,580,581,582,583,593,594,595,596,597,598,599,600,601,602,603,604,605,606,607,608,609,610,611,614,622,623,624,625,626,627,628,629,630,631,632,633,634,635,636,637,638,650,651,652,653,654,655,656,657,658,659,660,661,662,663,664,665,680,681,682,683,684,685,686,687,688,689,690,691],[-0.0013650697281628649,-0.0003094894930247791,-0.0006317678080753757,-0.0006049721567934062,0.0003012274648530639,0.0005867141274781427,0.0004965654969176757,-0.00031876975096892214,-0.00023863164063579124,-0.0001265401282252567,7.415108665477114e-05,7.857275532837823e-05,8.236328174112743e-05,-8.35580794368373e-06,-2.5701796110889055e-05,2.894452569218077e-05,2.9933317994941224e-05,0.00010691242551863063,0.0001710721096217414,-0.0006966097482983615,-0.0010187899952508886,-0.00031008742292094454,-0.00020381619750706653,-0.0001808513405201008,1.5419289006861207e-05,-4.079918389219944e-05,-0.0001977460480654789,-0.00029020833155112767,-0.0002884475804982352,-0.0001476903799066356,-0.00010140375452344366,-1.5654536412533928e-05,4.822173122818016e-05,4.7690489386398646e-05,-0.0005039765634413349,-0.0008248633564474031,-0.0004143066805670068,-0.00036908281912900775,-0.00030249334341970856,-0.00019107414515866325,-0.0001801014457316058,-0.00016762261372134664,-0.00022485729843929052,-0.0002650269774911562,-0.0003040834592089079,-0.0002385720715137591,-0.00012251730076068358,-0.00010212730527980649,-0.00014358070335739967,-0.0001419819751101798,-0.00019716769576913593,-0.0012074915424002235,-0.0004310598244377008,-0.0003858671728486392,-0.00034858521083495843,-0.0002726373147533219,-0.00044342105396669287,-0.00029657417912898814,-0.0002932956722502943,-8.82755776922666e-05,-0.0001069090554921613,-0.00010622389652322067,-0.00027881607566420947,-0.00028224626974217884,-0.0002650571140134575,-0.00031686747289279266,-0.0003352457702756034,-0.0003403831298900093,-0.0013170007733120585,-0.003144960420122308,-0.0005145189891095893,-0.0004420702130849585,-0.0003162885332580598,-0.00018803180699972008,-0.00034354105635965907,-0.0005148495400636444,-0.00029770349467159515,-0.00010921812593904661,1.9951110589524706e-05,1.8165406143858704e-05,3.404662907377035e-05,-9.21667595199104e-05,-0.0002771058939836389,-0.000357213615417148,-0.00037482058807455833,-0.0003598381115384731,-0.0003067063197422573,-0.000693276407270432,-0.012873503382368734,-0.0006027840805234424,-0.0004813700019153868,-0.00041864161182941827,-0.0002022585992906857,-0.00023149604922247574,-0.0004589957993503466,-0.0004516314750516308,-0.0002325463466328736,8.032536393037262e-06,0.0001921294527681147,0.000247982688646399,0.00019051366260410674,9.910208241619542e-05,-0.0001489718540354067,-0.0004331665850180438,-0.00039956752616415514,-0.00031263518193984813,-0.00029345064412948364,-0.0004876458543518794,-0.0010960401084229275,-0.0008490753564769738,-0.0004100374746457543,-0.00030097540374555157,-0.0002187672620274563,-0.0003405990593955361,-0.0005148718848857057,-0.00033965054652538055,-6.237798361914688e-05,0.00011441489181858071,0.0002664679612023299,0.00036791738831102433,0.00027110133933468193,0.00014711905979880065,-9.438579386916233e-05,-0.0005632762023900381,-0.0004354937148730315,-0.00028944689803446006,-0.000269662879503178,-0.00043366566786900805,-0.0005959615905175759,-0.00040085512156546644,-0.000310478785588294,-0.00018420723195769636,-0.00021692128369813036,-0.00038690578417516837,-0.00032731710619192313,-0.00020326400933413704,-4.021041789517845e-05,0.00016107384224564513,0.0003307670071610905,0.00042535783810426504,0.0002926832905548548,0.00017142112512442734,-0.00014447537131150295,-0.0006313399519295442,-0.0005504625199069034,-0.0002589840203525721,-0.0002535990543230966,-0.0003314149162288477,-0.0004575141675247379,-0.00033301427695037016,-0.00030335287852651586,-0.00012203765021460771,-0.00019597271932247207,-0.0003272214637100483,-0.0002804282255194534,-0.0002509767398049522,-8.257540514613526e-05,0.00023057995092663487,0.00043820315892772424,0.00044812494700261646,0.0003356404438940146,0.00017909787551534333,-0.0004929997942725514,-0.0006921504511734881,-0.0005824642074039668,-0.00027878287977336,-0.00022388613414294316,-0.0003072100266920407,-0.0003748859271945627,-0.00044199747679200395,-0.00030788752633041953,-0.00024354483868981,-0.00036355976668752754,-0.0003848725172707726,-0.0003204272243461964,-0.0003329802123349484,-6.318814148810197e-05,0.0003933486610952267,0.0004766272282587905,0.0004528951507499471,0.00034796444857251537,6.85900556683137e-05,-0.0006845029707822727,-0.0006151772044345979,-0.0006089622696523022,-0.0003716677892248384,-0.00025537534538402906,-0.0002901114483213556,-0.00030419527399772164,-0.001241214110038486,-0.0004802944666268191,-0.000290207132662311,-0.00026796599698698104,-0.000387015765807687,-0.00041144214122618703,-0.00039280918202978815,-0.00035939222983685847,0.00022829683813633275,0.00043167713084024537,0.00047872180615123505,0.0004869337113691837,0.00033394136965541243,-4.117342809007762e-05,-0.0008083846212103919,-0.0005484418592425098,-0.0005885277427732667,-0.0004640428172802205,-0.00019169165011359178,-0.0002596153070726874,-0.00036365333589864806,-0.0008133995081664922,-0.0003347282897369332,-0.00026685914389454395,-0.0002940881633093828,-0.00039372522730563204,-0.0005094208476584349,-0.0004409449821840178,-0.0003162055436925845,0.00028350267127503326,0.0004812368607623188,0.00046946743590796613,0.0004687324422074938,0.0004293505732018044,-0.00042677670119845913,-0.0006922831308128081,-0.00043087756814234586,-0.0006192646344537226,-0.0003299838477402871,-0.00019711389719364466,-0.00021120883938223765,-0.00044114887138530927,-0.000547997514886416,-0.00022688308421371138,-0.0002735038006550593,-0.00031172473832046557,-0.0004726541816958382,-0.0005447099726002464,-0.00040580167287096165,8.395316851528465e-05,0.00025925113130616684,0.0004614120860524494,0.0004735152496447904,0.0004176590350593237,0.00038514187094561096,-0.0005624868393654217,-0.0005896741259346638,-0.00040229895917246014,-0.0005452169724631889,-0.0003607397614502756,-0.0001794008946468796,-0.00022272511075546638,-0.00044837649259124894,-0.00022447142725649398,-0.0001965254610201094,-0.0002632700582785576,-0.0003360467051575555,-0.0004950451519409794,-0.0005389205877374432,-0.0001714056630929012,0.00013240963608459786,0.00023657289855359947,0.0004491782241628356,0.00046665707553008565,0.000371472304476217,0.0001987348931203866,-0.0003856705743084986,-0.0003991638890338497,-0.00038946628799179864,-0.0004874620867584923,-0.0003199343037171092,-0.00017479133317800132,-0.0002677904621643642,-0.00046264951417681217,-0.00043199648317667643,-0.00019715512223138915,-0.00025522186767771524,-0.00034839471942523507,-0.0005025210381825631,-0.0005053060598801136,3.542833540895003e-05,0.0001797127862106653,0.00029060639002950983,0.000480014274673885,0.00039167256053780977,0.00022430440790610347,1.4481597587023006e-05,-0.00031905192078819004,-0.000416132504059868,-0.0003654961202282485,-0.0003378271238251793,-0.0001249461858114994,-0.0002232905423173636,-0.00047318941146481193,-0.000607933326711855,-0.000537166024515529,-0.00022919791531822372,-0.00020189563627625074,-0.0003339361116021652,-0.00046368331136908427,-0.0003495942654100347,9.516107065333e-05,0.00019640365639838443,0.0003414869723696497,0.0004268752184699747,0.0003176356349138938,0.000150397853814135,-5.3349352198627806e-05,-0.00025871983813984065,-0.00029734832566459237,-0.0002892482083030953,-0.00023411827873422625,-7.949994738328703e-05,-0.00027319317714514905,-0.00048605328545953645,-0.0012513301408122164,-0.0015266776056888066,-0.00033977247715149265,-0.0001975297061101534,-0.0002204175404167128,-0.00035141107987293605,-0.00027561970292346976,3.539112852642112e-05,0.00014218943918065813,0.0002476565776653581,0.0001835957534759826,0.00012824213574426816,-2.9454506150431663e-05,-0.00018260470061798174,-0.0002666047659204037,-0.0002663403228719509,-0.00031095610613953215,-0.00016905115785209482,-0.00024532511649077385,-0.00046503038279297317,-0.0006496575923484123,-0.00035204071119372026,-0.00014187383820838157,-0.00014575142428944107,-0.0002142592688304561,-0.0003357417877627946,-0.0002214790707676011,-6.956133485266905e-05,-0.00010777525269422139,-0.0001098993196867917,-0.00010952619373143356,-0.00016302546938697378,-0.00022725939633970544,-0.0002218840891341191,-0.00041483770207325856,-0.0003640332416112227,-0.0003165895407942167,-0.00045094382319238197,-0.0007060937382008286,-0.004640227509714082,0.00014003686735030544,-0.00011125153536006712,-4.778672701255693e-05,-0.00011758319997562443,-0.00021369077913976618,-0.00030898113761509445,-0.00031165482694565585,-0.00025194087962470714,-0.0002385710504571857,-0.0002248754912607525,-0.00020151166597139305,-0.0002409045760480055,-0.00028114047697829284,-0.00015828692769511357,-0.000182319184146513,-0.0005170134975420922,-0.0008498481378993862,-0.004640227509714082,-0.001500199113587371,-4.737950624120247e-05,-2.876912683917247e-06,2.7724986182976408e-05,-9.961376972457833e-05,-0.00027098360442874233,-0.0003599931602419642,-0.0003346839749940129,-0.0003545887944222217,-0.00036169990397195376,-0.0003717403088334746,-0.00013639446035525467,-2.2625273843002667e-05,-0.0003843206022889042,-0.0007389582308049498,-0.004581541030990689,0.0015399584660385555,0.00019012277618258184,4.6026723731267254e-05,-0.0002005192883973762,-0.0006921385241544909,-0.0007387327472897203,-0.0005281213994443215,-0.000523028228549496,-0.0007325732585558413,-0.0004567904627591736,-0.0007791736447263076,-0.0031816257159657563])\n",
            "  Intercept: 3.477862610431385\n",
            "Objective history: [0.6585450135382944, 0.05157233890753114, 0.042850189243992164, 0.024344128219410944, 0.023901330088556508, 0.023426143867815406, 0.02333430890440111, 0.02325148093024103, 0.02295283108221261, 0.022525930025784284, 0.0221493254289784, 0.021748056107793304, 0.02163525014334727, 0.021617136803317272, 0.021612941780504234, 0.021612592942273644, 0.021612473333079318, 0.021612464080354873, 0.021612460766078312, 0.021612459931547097, 0.02161245986530347, 0.021612459859293557, 0.021612459857427407, 0.021612459857342135, 0.021612459857327217]\n"
          ]
        }
      ]
    },
    {
      "cell_type": "code",
      "source": [
        "# -------------------------------------------------------------\n",
        "# 8. Save and reload the fitted model\n",
        "# -------------------------------------------------------------\n",
        "save_path = \"/tmp/mymodel\"\n",
        "tvsFitted.write().overwrite().save(save_path)\n",
        "\n"
      ],
      "metadata": {
        "id": "Pa6vcux93xPy"
      },
      "execution_count": null,
      "outputs": []
    },
    {
      "cell_type": "code",
      "source": [
        "# Load model for later use\n",
        "loadedModel = TrainValidationSplitModel.load(save_path)\n",
        "\n",
        "# Reload the data and recreate the test DataFrame in the current Spark session\n",
        "# Assuming the data file is still available at the original path and the Spark session is active\n",
        "# You might need to start a new Spark session if it was stopped before this cell\n",
        "spark = SparkSession.builder.appName(\"ReloadData\").getOrCreate() # Uncommented to start a new Spark session\n",
        "\n",
        "data_reloaded = spark.read.format(\"libsvm\").load(\"/content/sample_libsvm_data.txt\")\n",
        "\n",
        "# Reapply the same renaming and splitting logic as before to get the test set\n",
        "# Ensure the seed is the same for reproducibility\n",
        "data_reloaded = data_reloaded.withColumnRenamed(\"features\", \"originalFeatures\")\n",
        "_, test_reloaded = data_reloaded.randomSplit([0.7, 0.3], seed=42)\n",
        "\n",
        "\n",
        "# Run prediction using the loaded model on the reloaded test data\n",
        "loadedModel.transform(test_reloaded).select(\"label\", \"prediction\", \"probability\").show(5, truncate=False)"
      ],
      "metadata": {
        "id": "d6xPVbBo4pRC"
      },
      "execution_count": null,
      "outputs": []
    }
  ]
}