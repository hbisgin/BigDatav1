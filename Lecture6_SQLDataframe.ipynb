{
  "nbformat": 4,
  "nbformat_minor": 0,
  "metadata": {
    "colab": {
      "provenance": [],
      "authorship_tag": "ABX9TyPgRCejYqn6Ck8ewWpdBU3m",
      "include_colab_link": true
    },
    "kernelspec": {
      "name": "python3",
      "display_name": "Python 3"
    },
    "language_info": {
      "name": "python"
    }
  },
  "cells": [
    {
      "cell_type": "markdown",
      "metadata": {
        "id": "view-in-github",
        "colab_type": "text"
      },
      "source": [
        "<a href=\"https://colab.research.google.com/github/hbisgin/BigDatav1/blob/main/Lecture6_SQLDataframe.ipynb\" target=\"_parent\"><img src=\"https://colab.research.google.com/assets/colab-badge.svg\" alt=\"Open In Colab\"/></a>"
      ]
    },
    {
      "cell_type": "code",
      "source": [
        "!wget https://raw.githubusercontent.com/databricks/LearningSparkV2/refs/heads/master/databricks-datasets/learning-spark-v2/flights/departuredelays.csv"
      ],
      "metadata": {
        "colab": {
          "base_uri": "https://localhost:8080/"
        },
        "id": "FvV2Zs2JKGGH",
        "outputId": "82796b4c-bab9-496b-9dec-ceee6034aeb2"
      },
      "execution_count": 1,
      "outputs": [
        {
          "output_type": "stream",
          "name": "stdout",
          "text": [
            "--2025-09-15 13:49:09--  https://raw.githubusercontent.com/databricks/LearningSparkV2/refs/heads/master/databricks-datasets/learning-spark-v2/flights/departuredelays.csv\n",
            "Resolving raw.githubusercontent.com (raw.githubusercontent.com)... 185.199.108.133, 185.199.109.133, 185.199.110.133, ...\n",
            "Connecting to raw.githubusercontent.com (raw.githubusercontent.com)|185.199.108.133|:443... connected.\n",
            "HTTP request sent, awaiting response... 200 OK\n",
            "Length: 33396236 (32M) [text/plain]\n",
            "Saving to: ‘departuredelays.csv’\n",
            "\n",
            "departuredelays.csv 100%[===================>]  31.85M   156MB/s    in 0.2s    \n",
            "\n",
            "2025-09-15 13:49:10 (156 MB/s) - ‘departuredelays.csv’ saved [33396236/33396236]\n",
            "\n"
          ]
        }
      ]
    },
    {
      "cell_type": "code",
      "execution_count": 2,
      "metadata": {
        "id": "9cG3RSkIJXN8"
      },
      "outputs": [],
      "source": [
        "from pyspark.sql import SparkSession\n",
        "spark = SparkSession.builder.appName(\"Example\").enableHiveSupport(). getOrCreate()\n",
        "#sc = spark.sparkContext #for backward compatibility, RDD would need this"
      ]
    },
    {
      "cell_type": "markdown",
      "source": [],
      "metadata": {
        "id": "sEEae7gCKWSf"
      }
    },
    {
      "cell_type": "code",
      "source": [
        "df = spark.read.option(\"inferSchema\", \"true\").option(\"header\", \"true\").csv(\"departuredelays.csv\")\n",
        "#date  format has some issues, we have a workaround but that is not the focus for this notebook"
      ],
      "metadata": {
        "id": "PwRbyIQxKWv2"
      },
      "execution_count": 8,
      "outputs": []
    },
    {
      "cell_type": "code",
      "source": [
        "df.printSchema()\n",
        "df.show(3)"
      ],
      "metadata": {
        "colab": {
          "base_uri": "https://localhost:8080/"
        },
        "id": "UouOW-DGMtVX",
        "outputId": "54bcde46-5258-47ea-a65f-e0eab384eada"
      },
      "execution_count": 9,
      "outputs": [
        {
          "output_type": "stream",
          "name": "stdout",
          "text": [
            "root\n",
            " |-- date: integer (nullable = true)\n",
            " |-- delay: integer (nullable = true)\n",
            " |-- distance: integer (nullable = true)\n",
            " |-- origin: string (nullable = true)\n",
            " |-- destination: string (nullable = true)\n",
            "\n",
            "+-------+-----+--------+------+-----------+\n",
            "|   date|delay|distance|origin|destination|\n",
            "+-------+-----+--------+------+-----------+\n",
            "|1011245|    6|     602|   ABE|        ATL|\n",
            "|1020600|   -8|     369|   ABE|        DTW|\n",
            "|1021245|   -2|     602|   ABE|        ATL|\n",
            "+-------+-----+--------+------+-----------+\n",
            "only showing top 3 rows\n",
            "\n"
          ]
        }
      ]
    },
    {
      "cell_type": "code",
      "source": [
        "from pyspark.sql.functions import col, lpad, substring, concat_ws, to_date\n",
        "\n",
        "# Pad to 7 digits: e.g., 1010005 -> \"1010005\"\n",
        "df = df.withColumn(\"date_str\", lpad(col(\"date\").cast(\"string\"), 7, \"0\")) #add zero to the left\n",
        "\n",
        "# Extract year, month, day\n",
        "df = df.withColumn(\"year\", substring(\"date_str\", 1, 3).cast(\"int\") + 1900)  # Adjust as needed\n",
        "df = df.withColumn(\"month\", substring(\"date_str\", 4, 2))\n",
        "df = df.withColumn(\"day\", substring(\"date_str\", 6, 2))\n",
        "\n",
        "# Combine into date string\n",
        "df = df.withColumn(\"date_combined\", concat_ws(\"-\", col(\"year\"), col(\"month\"), col(\"day\")))\n",
        "\n",
        "\n",
        "\n",
        "\n"
      ],
      "metadata": {
        "id": "OzVbyu0_pUSj"
      },
      "execution_count": 10,
      "outputs": []
    },
    {
      "cell_type": "code",
      "source": [
        "df.printSchema()\n",
        "df.show(3)"
      ],
      "metadata": {
        "colab": {
          "base_uri": "https://localhost:8080/"
        },
        "id": "dGrD-X8JQFRx",
        "outputId": "6ac23254-f4b8-4b94-9fae-6e2a6c8f57d7"
      },
      "execution_count": 11,
      "outputs": [
        {
          "output_type": "stream",
          "name": "stdout",
          "text": [
            "root\n",
            " |-- date: integer (nullable = true)\n",
            " |-- delay: integer (nullable = true)\n",
            " |-- distance: integer (nullable = true)\n",
            " |-- origin: string (nullable = true)\n",
            " |-- destination: string (nullable = true)\n",
            " |-- date_str: string (nullable = true)\n",
            " |-- year: integer (nullable = true)\n",
            " |-- month: string (nullable = true)\n",
            " |-- day: string (nullable = true)\n",
            " |-- date_combined: string (nullable = false)\n",
            "\n",
            "+-------+-----+--------+------+-----------+--------+----+-----+---+-------------+\n",
            "|   date|delay|distance|origin|destination|date_str|year|month|day|date_combined|\n",
            "+-------+-----+--------+------+-----------+--------+----+-----+---+-------------+\n",
            "|1011245|    6|     602|   ABE|        ATL| 1011245|2001|   12| 45|   2001-12-45|\n",
            "|1020600|   -8|     369|   ABE|        DTW| 1020600|2002|   06| 00|   2002-06-00|\n",
            "|1021245|   -2|     602|   ABE|        ATL| 1021245|2002|   12| 45|   2002-12-45|\n",
            "+-------+-----+--------+------+-----------+--------+----+-----+---+-------------+\n",
            "only showing top 3 rows\n",
            "\n"
          ]
        }
      ]
    },
    {
      "cell_type": "code",
      "source": [
        "df.createOrReplaceTempView(\"us_delay_flights_tbl\")"
      ],
      "metadata": {
        "id": "X-22jEelMQL6"
      },
      "execution_count": null,
      "outputs": []
    },
    {
      "cell_type": "code",
      "source": [
        "spark.sql(\"CREATE DATABASE my_spark_db\")\n",
        "spark.sql(\"USE my_spark_db\")\n"
      ],
      "metadata": {
        "id": "uYWQhbqJMsU_",
        "colab": {
          "base_uri": "https://localhost:8080/"
        },
        "outputId": "3ec4b251-0cdf-44a2-be00-fb7494e0d964"
      },
      "execution_count": null,
      "outputs": [
        {
          "output_type": "execute_result",
          "data": {
            "text/plain": [
              "DataFrame[]"
            ]
          },
          "metadata": {},
          "execution_count": 14
        }
      ]
    },
    {
      "cell_type": "code",
      "source": [
        "#spark.sql(\"CREATE TABLE dummy(date STRING, delay INT,distance INT, origin STRING, destination STRING)\") #we may need HIVE setup for this"
      ],
      "metadata": {
        "id": "tXveKs1ZBpCc"
      },
      "execution_count": null,
      "outputs": []
    },
    {
      "cell_type": "code",
      "source": [
        "df.write.saveAsTable(\"managed_us_delay_flights_tbl2\") #managed\n"
      ],
      "metadata": {
        "id": "aYRTIBwJCKho"
      },
      "execution_count": null,
      "outputs": []
    },
    {
      "cell_type": "code",
      "source": [
        "df.write.option(\"path\", \"/tmp/data/us_flights_delay\").saveAsTable(\"us_delay_flights_tbl_unmanaged\") #unmanaged"
      ],
      "metadata": {
        "id": "PjEwMHXfGedP"
      },
      "execution_count": null,
      "outputs": []
    },
    {
      "cell_type": "code",
      "source": [
        "# Create another session\n",
        "spark2 = spark.newSession()\n",
        "\n",
        "# Create temp view in first session\n",
        "df = spark.createDataFrame([(1, \"Alice\"), (2, \"Bob\")], [\"id\", \"name\"])\n",
        "df.createOrReplaceTempView(\"people\")\n",
        "\n",
        "# Query in first session -> works\n",
        "spark.sql(\"SELECT * FROM us_delay_flights_tbl_unmanaged where delay<0\").show()\n",
        "\n",
        "# Query in second session -> fails (temp view not shared)\n",
        "#spark2.sql(\"SELECT * FROM us_delay_flights_tbl_unmanaged where delay<0\").show() # Would error\n",
        "\n",
        "# Each session has its own catalog of temp views\n",
        "df2 = spark2.createDataFrame([(3, \"Carol\")], [\"id\", \"name\"])\n",
        "df2.createOrReplaceTempView(\"people2\")\n",
        "\n",
        "# Accessible in spark2 but not in spark\n",
        "spark2.sql(\"SELECT * FROM people2\").show()"
      ],
      "metadata": {
        "id": "MRgVLbqKKKHK"
      },
      "execution_count": null,
      "outputs": []
    },
    {
      "cell_type": "code",
      "source": [
        "print(spark.catalog.listDatabases())\n",
        "print(spark.catalog.listTables())\n",
        "spark.catalog.listColumns(\"us_delay_flights_tbl\")"
      ],
      "metadata": {
        "id": "WR0OW9g9LQB4",
        "outputId": "21a5bb12-4f26-47a1-e18e-f08cafd15394",
        "colab": {
          "base_uri": "https://localhost:8080/"
        }
      },
      "execution_count": null,
      "outputs": [
        {
          "output_type": "stream",
          "name": "stdout",
          "text": [
            "[Database(name='default', catalog='spark_catalog', description='Default Hive database', locationUri='file:/content/spark-warehouse'), Database(name='learn_spark_db', catalog='spark_catalog', description='', locationUri='file:/content/spark-warehouse/learn_spark_db.db'), Database(name='my_spark_db', catalog='spark_catalog', description='', locationUri='file:/content/spark-warehouse/my_spark_db.db')]\n",
            "[Table(name='people', catalog=None, namespace=[], description=None, tableType='TEMPORARY', isTemporary=True), Table(name='us_delay_flights_tbl', catalog=None, namespace=[], description=None, tableType='TEMPORARY', isTemporary=True)]\n"
          ]
        },
        {
          "output_type": "execute_result",
          "data": {
            "text/plain": [
              "[Column(name='date', description=None, dataType='int', nullable=True, isPartition=False, isBucket=False),\n",
              " Column(name='delay', description=None, dataType='int', nullable=True, isPartition=False, isBucket=False),\n",
              " Column(name='distance', description=None, dataType='int', nullable=True, isPartition=False, isBucket=False),\n",
              " Column(name='origin', description=None, dataType='string', nullable=True, isPartition=False, isBucket=False),\n",
              " Column(name='destination', description=None, dataType='string', nullable=True, isPartition=False, isBucket=False),\n",
              " Column(name='dateformatted', description=None, dataType='date', nullable=True, isPartition=False, isBucket=False)]"
            ]
          },
          "metadata": {},
          "execution_count": 16
        }
      ]
    },
    {
      "cell_type": "markdown",
      "source": [
        "Can you get the m&m data from https://github.com/databricks/LearningSparkV2/blob/master/chapter2/py/src/data/mnm_dataset.csv and perform the following:\n",
        "\n",
        "1. Read it as a csv file\n",
        "2. Register as a view\n",
        "3. Select from the DataFrame the fields \"State\", \"Color\", and \"Count\" in a way that it should report the count of each color for each state. In other words, grouping by state and color pairs should be counted.\n",
        "4. Report what if we just want to see the data for a single state, e.g., CA?\n"
      ],
      "metadata": {
        "id": "mOkWIN4RPMg-"
      }
    },
    {
      "cell_type": "code",
      "source": [],
      "metadata": {
        "id": "qi4yxaXNBYtD"
      },
      "execution_count": null,
      "outputs": []
    }
  ]
}