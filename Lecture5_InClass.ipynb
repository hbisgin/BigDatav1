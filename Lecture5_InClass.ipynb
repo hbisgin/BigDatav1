{
  "nbformat": 4,
  "nbformat_minor": 0,
  "metadata": {
    "colab": {
      "provenance": [],
      "mount_file_id": "1CU5c2mJQZcBZXaGgrmrUxsP0sH_eEgRQ",
      "authorship_tag": "ABX9TyPGrOMUY8mdc7vwtMAqskL1",
      "include_colab_link": true
    },
    "kernelspec": {
      "name": "python3",
      "display_name": "Python 3"
    },
    "language_info": {
      "name": "python"
    }
  },
  "cells": [
    {
      "cell_type": "markdown",
      "metadata": {
        "id": "view-in-github",
        "colab_type": "text"
      },
      "source": [
        "<a href=\"https://colab.research.google.com/github/hbisgin/BigDatav1/blob/main/Lecture5_InClass.ipynb\" target=\"_parent\"><img src=\"https://colab.research.google.com/assets/colab-badge.svg\" alt=\"Open In Colab\"/></a>"
      ]
    },
    {
      "cell_type": "code",
      "metadata": {
        "id": "5a052a74"
      },
      "source": [
        "from pyspark.sql import SparkSession\n",
        "\n",
        "spark = SparkSession.builder.appName(\"Example\").getOrCreate()\n",
        "sc = spark.sparkContext"
      ],
      "execution_count": null,
      "outputs": []
    },
    {
      "cell_type": "code",
      "metadata": {
        "colab": {
          "base_uri": "https://localhost:8080/"
        },
        "id": "04db3df6",
        "outputId": "fe6432fa-3229-4fe6-9a83-78332cd88bf5"
      },
      "source": [
        "dataRDD = sc.parallelize([\n",
        "  (\"Brooke\", 20), (\"Denny\", 31),\n",
        "  (\"Jules\", 30), (\"TD\", 35), (\"Brooke\", 25)\n",
        "])\n",
        "\n",
        "# dataRDD is assumed to contain pairs like: (key, value)\n",
        "\n",
        "agesRDD = (\n",
        "    dataRDD\n",
        "      # 1) For each (key, value), initialize a (sum, count) pair as (value, 1)\n",
        "      #    Example: (\"alice\", 34) -> (\"alice\", (34, 1))\n",
        "      .map(lambda x: (x[0], (x[1], 1)))\n",
        "\n",
        "      # 2) Reduce by key to add up sums and counts across the same key\n",
        "      #    (\"alice\", (34, 1)) and (\"alice\", (30, 1))\n",
        "      #    -> (\"alice\", (34+30, 1+1)) = (\"alice\", (64, 2))\n",
        "      .reduceByKey(lambda x, y: (x[0] + y[0], x[1] + y[1]))\n",
        "\n",
        "      # 3) For each key, convert (sum, count) -> average = sum / count\n",
        "      #    (\"alice\", (64, 2)) -> (\"alice\", 32.0)\n",
        "      #    NOTE: cast to float if you need non-integer division in older Python.\n",
        "      .map(lambda x: (x[0], x[1][0] / x[1][1]))\n",
        ")\n",
        "\n",
        "\n",
        "agesRDD.collect()"
      ],
      "execution_count": null,
      "outputs": [
        {
          "output_type": "execute_result",
          "data": {
            "text/plain": [
              "[('Brooke', 22.5), ('Denny', 31.0), ('Jules', 30.0), ('TD', 35.0)]"
            ]
          },
          "metadata": {},
          "execution_count": 6
        }
      ]
    },
    {
      "cell_type": "code",
      "source": [
        "from pyspark.sql.functions import avg\n",
        "# if you want to import all available functions and call them as needed, from pyspark.sql import functions as F. Then you can call like F.avg\n",
        "\n",
        "data_df = spark.createDataFrame([\n",
        "  (\"Brooke\", 20), (\"Denny\", 31),\n",
        "  (\"Jules\", 30), (\"TD\", 35), (\"Brooke\", 25)\n",
        "], [\"name\", \"age\"])\n",
        "\n",
        "avg_df = data_df.groupBy(\"name\").agg(avg(\"age\"))\n",
        "avg_df.show()"
      ],
      "metadata": {
        "colab": {
          "base_uri": "https://localhost:8080/"
        },
        "id": "oruqUe5V-aot",
        "outputId": "2289b77c-decb-4770-bce2-77988440a623"
      },
      "execution_count": null,
      "outputs": [
        {
          "output_type": "stream",
          "name": "stdout",
          "text": [
            "+------+--------+\n",
            "|  name|avg(age)|\n",
            "+------+--------+\n",
            "|Brooke|    22.5|\n",
            "| Denny|    31.0|\n",
            "| Jules|    30.0|\n",
            "|    TD|    35.0|\n",
            "+------+--------+\n",
            "\n"
          ]
        }
      ]
    },
    {
      "cell_type": "markdown",
      "source": [
        "How to define schema"
      ],
      "metadata": {
        "id": "52W870IrXYMh"
      }
    },
    {
      "cell_type": "code",
      "source": [
        "from pyspark.sql.types import *\n",
        "schema = StructType([StructField(\"author\", StringType(), False),\n",
        "  StructField(\"title\", StringType(), False),\n",
        "  StructField(\"pages\", IntegerType(), False)])\n",
        "\n",
        "schema.fieldNames()\n",
        "data = [(\"Chris Bishop\", \"Deep Learning\", 346)]\n",
        "df = spark.createDataFrame(data, schema=schema)\n",
        "df.show()\n",
        "print(df.printSchema())\n"
      ],
      "metadata": {
        "colab": {
          "base_uri": "https://localhost:8080/"
        },
        "id": "IWKWw1_VXb50",
        "outputId": "418ed77a-2843-4cf3-a6b8-d4beb628c306"
      },
      "execution_count": null,
      "outputs": [
        {
          "output_type": "stream",
          "name": "stdout",
          "text": [
            "+------------+-------------+-----+\n",
            "|      author|        title|pages|\n",
            "+------------+-------------+-----+\n",
            "|Chris Bishop|Deep Learning|  346|\n",
            "+------------+-------------+-----+\n",
            "\n",
            "root\n",
            " |-- author: string (nullable = false)\n",
            " |-- title: string (nullable = false)\n",
            " |-- pages: integer (nullable = false)\n",
            "\n",
            "None\n"
          ]
        }
      ]
    },
    {
      "cell_type": "code",
      "source": [
        "df.schema"
      ],
      "metadata": {
        "colab": {
          "base_uri": "https://localhost:8080/"
        },
        "id": "2WrLTD4pZ-lT",
        "outputId": "a29b6dd3-5741-488b-d8e6-707928f97d40"
      },
      "execution_count": null,
      "outputs": [
        {
          "output_type": "execute_result",
          "data": {
            "text/plain": [
              "StructType([StructField('author', StringType(), False), StructField('title', StringType(), False), StructField('pages', IntegerType(), False)])"
            ]
          },
          "metadata": {},
          "execution_count": 16
        }
      ]
    },
    {
      "cell_type": "markdown",
      "source": [
        "If you want to use DDL"
      ],
      "metadata": {
        "id": "PI8kmBLrZXgi"
      }
    },
    {
      "cell_type": "code",
      "source": [
        "schemaDDL = \"author STRING, title STRING, pages INT\"\n",
        "df_ddl = spark.createDataFrame(data, schema=schemaDDL)\n",
        "df_ddl.show()\n",
        "print(df_ddl.printSchema())"
      ],
      "metadata": {
        "colab": {
          "base_uri": "https://localhost:8080/"
        },
        "id": "zuHv5rQHZZgW",
        "outputId": "5ca46de8-ff36-4c1f-c437-1a8e9b80403e"
      },
      "execution_count": null,
      "outputs": [
        {
          "output_type": "stream",
          "name": "stdout",
          "text": [
            "+------------+-------------+-----+\n",
            "|      author|        title|pages|\n",
            "+------------+-------------+-----+\n",
            "|Chris Bishop|Deep Learning|  346|\n",
            "+------------+-------------+-----+\n",
            "\n",
            "root\n",
            " |-- author: string (nullable = true)\n",
            " |-- title: string (nullable = true)\n",
            " |-- pages: integer (nullable = true)\n",
            "\n",
            "None\n"
          ]
        }
      ]
    },
    {
      "cell_type": "code",
      "source": [
        "df_ddl.schema"
      ],
      "metadata": {
        "colab": {
          "base_uri": "https://localhost:8080/"
        },
        "id": "9f81ym2wZ6Gz",
        "outputId": "3117c4bf-2c3b-446a-fbfa-26dc5b33b9ff"
      },
      "execution_count": null,
      "outputs": [
        {
          "output_type": "execute_result",
          "data": {
            "text/plain": [
              "StructType([StructField('author', StringType(), True), StructField('title', StringType(), True), StructField('pages', IntegerType(), True)])"
            ]
          },
          "metadata": {},
          "execution_count": 15
        }
      ]
    },
    {
      "cell_type": "markdown",
      "source": [
        "Columns & Expressions"
      ],
      "metadata": {
        "id": "mXXmY3nlcpsw"
      }
    },
    {
      "cell_type": "code",
      "source": [
        "titanic = spark.read.csv(\"/content/drive/MyDrive/DATA/titanic.csv\", header=True, inferSchema=True)\n",
        "titanic.show()"
      ],
      "metadata": {
        "colab": {
          "base_uri": "https://localhost:8080/"
        },
        "id": "H7Z2FOyodDun",
        "outputId": "6cd16e4b-0b30-437d-8496-80420d3c009d"
      },
      "execution_count": null,
      "outputs": [
        {
          "output_type": "stream",
          "name": "stdout",
          "text": [
            "+---+-----------+--------+------+--------------------+------+----+-----+-----+----------------+-------+-----+--------+\n",
            "|_c0|PassengerId|Survived|Pclass|                Name|   Sex| Age|SibSp|Parch|          Ticket|   Fare|Cabin|Embarked|\n",
            "+---+-----------+--------+------+--------------------+------+----+-----+-----+----------------+-------+-----+--------+\n",
            "|  0|          1|       0|     3|Braund, Mr. Owen ...|  male|22.0|    1|    0|       A/5 21171|   7.25| NULL|       S|\n",
            "|  1|          2|       1|     1|Cumings, Mrs. Joh...|female|38.0|    1|    0|        PC 17599|71.2833|  C85|       C|\n",
            "|  2|          3|       1|     3|Heikkinen, Miss. ...|female|26.0|    0|    0|STON/O2. 3101282|  7.925| NULL|       S|\n",
            "|  3|          4|       1|     1|Futrelle, Mrs. Ja...|female|35.0|    1|    0|          113803|   53.1| C123|       S|\n",
            "|  4|          5|       0|     3|Allen, Mr. Willia...|  male|35.0|    0|    0|          373450|   8.05| NULL|       S|\n",
            "|  5|          6|       0|     3|    Moran, Mr. James|  male|NULL|    0|    0|          330877| 8.4583| NULL|       Q|\n",
            "|  6|          7|       0|     1|McCarthy, Mr. Tim...|  male|54.0|    0|    0|           17463|51.8625|  E46|       S|\n",
            "|  7|          8|       0|     3|Palsson, Master. ...|  male| 2.0|    3|    1|          349909| 21.075| NULL|       S|\n",
            "|  8|          9|       1|     3|Johnson, Mrs. Osc...|female|27.0|    0|    2|          347742|11.1333| NULL|       S|\n",
            "|  9|         10|       1|     2|Nasser, Mrs. Nich...|female|14.0|    1|    0|          237736|30.0708| NULL|       C|\n",
            "| 10|         11|       1|     3|Sandstrom, Miss. ...|female| 4.0|    1|    1|         PP 9549|   16.7|   G6|       S|\n",
            "| 11|         12|       1|     1|Bonnell, Miss. El...|female|58.0|    0|    0|          113783|  26.55| C103|       S|\n",
            "| 12|         13|       0|     3|Saundercock, Mr. ...|  male|20.0|    0|    0|       A/5. 2151|   8.05| NULL|       S|\n",
            "| 13|         14|       0|     3|Andersson, Mr. An...|  male|39.0|    1|    5|          347082| 31.275| NULL|       S|\n",
            "| 14|         15|       0|     3|Vestrom, Miss. Hu...|female|14.0|    0|    0|          350406| 7.8542| NULL|       S|\n",
            "| 15|         16|       1|     2|Hewlett, Mrs. (Ma...|female|55.0|    0|    0|          248706|   16.0| NULL|       S|\n",
            "| 16|         17|       0|     3|Rice, Master. Eugene|  male| 2.0|    4|    1|          382652| 29.125| NULL|       Q|\n",
            "| 17|         18|       1|     2|Williams, Mr. Cha...|  male|NULL|    0|    0|          244373|   13.0| NULL|       S|\n",
            "| 18|         19|       0|     3|Vander Planke, Mr...|female|31.0|    1|    0|          345763|   18.0| NULL|       S|\n",
            "| 19|         20|       1|     3|Masselmani, Mrs. ...|female|NULL|    0|    0|            2649|  7.225| NULL|       C|\n",
            "+---+-----------+--------+------+--------------------+------+----+-----+-----+----------------+-------+-----+--------+\n",
            "only showing top 20 rows\n",
            "\n"
          ]
        }
      ]
    },
    {
      "cell_type": "code",
      "source": [
        "from pyspark.sql.functions import *\n",
        "print(titanic.columns)\n",
        "titanic.select(expr(\"Fare * 2\")).show(2)\n",
        "titanic.select(col(\"Fare\") * 2).show(3)"
      ],
      "metadata": {
        "colab": {
          "base_uri": "https://localhost:8080/"
        },
        "id": "8JIe6nr_cuCk",
        "outputId": "e7c5e753-c830-4595-f43a-58a4e85ab8ff"
      },
      "execution_count": null,
      "outputs": [
        {
          "output_type": "stream",
          "name": "stdout",
          "text": [
            "['_c0', 'PassengerId', 'Survived', 'Pclass', 'Name', 'Sex', 'Age', 'SibSp', 'Parch', 'Ticket', 'Fare', 'Cabin', 'Embarked']\n",
            "+----------+\n",
            "|(Fare * 2)|\n",
            "+----------+\n",
            "|      14.5|\n",
            "|  142.5666|\n",
            "+----------+\n",
            "only showing top 2 rows\n",
            "\n",
            "+----------+\n",
            "|(Fare * 2)|\n",
            "+----------+\n",
            "|      14.5|\n",
            "|  142.5666|\n",
            "|     15.85|\n",
            "+----------+\n",
            "only showing top 3 rows\n",
            "\n"
          ]
        }
      ]
    },
    {
      "cell_type": "markdown",
      "source": [
        "Average fare for each class"
      ],
      "metadata": {
        "id": "WskNnHQ_edik"
      }
    },
    {
      "cell_type": "code",
      "source": [
        "titanic.groupBy(\"Pclass\").agg(avg(\"Fare\")).show()"
      ],
      "metadata": {
        "colab": {
          "base_uri": "https://localhost:8080/"
        },
        "id": "_b4Oj-w3eXbc",
        "outputId": "e1727aa9-d3b4-40b5-8cb3-54bd568ea6df"
      },
      "execution_count": null,
      "outputs": [
        {
          "output_type": "stream",
          "name": "stdout",
          "text": [
            "+------+------------------+\n",
            "|Pclass|         avg(Fare)|\n",
            "+------+------------------+\n",
            "|     3|13.525700639658854|\n",
            "|     1| 84.74390547263675|\n",
            "|     ?|  36.0694693877551|\n",
            "|     2| 20.63643430232558|\n",
            "+------+------------------+\n",
            "\n"
          ]
        }
      ]
    },
    {
      "cell_type": "code",
      "source": [
        "titanic.withColumn(\n",
        "    \"passenger_info\",\n",
        "      concat(\n",
        "        lit(\"Class \"), col(\"Pclass\"), lit(\" - \"), col(\"Name\")\n",
        "    )\n",
        ").show(5)\n"
      ],
      "metadata": {
        "colab": {
          "base_uri": "https://localhost:8080/"
        },
        "id": "rZevxFoSh6qS",
        "outputId": "3a41a7c3-b5aa-4876-a23e-a3c801f9c332"
      },
      "execution_count": null,
      "outputs": [
        {
          "output_type": "stream",
          "name": "stdout",
          "text": [
            "+---+-----------+--------+------+--------------------+------+----+-----+-----+----------------+-------+-----+--------+--------------------+\n",
            "|_c0|PassengerId|Survived|Pclass|                Name|   Sex| Age|SibSp|Parch|          Ticket|   Fare|Cabin|Embarked|      passenger_info|\n",
            "+---+-----------+--------+------+--------------------+------+----+-----+-----+----------------+-------+-----+--------+--------------------+\n",
            "|  0|          1|       0|     3|Braund, Mr. Owen ...|  male|22.0|    1|    0|       A/5 21171|   7.25| NULL|       S|Class 3 - Braund,...|\n",
            "|  1|          2|       1|     1|Cumings, Mrs. Joh...|female|38.0|    1|    0|        PC 17599|71.2833|  C85|       C|Class 1 - Cumings...|\n",
            "|  2|          3|       1|     3|Heikkinen, Miss. ...|female|26.0|    0|    0|STON/O2. 3101282|  7.925| NULL|       S|Class 3 - Heikkin...|\n",
            "|  3|          4|       1|     1|Futrelle, Mrs. Ja...|female|35.0|    1|    0|          113803|   53.1| C123|       S|Class 1 - Futrell...|\n",
            "|  4|          5|       0|     3|Allen, Mr. Willia...|  male|35.0|    0|    0|          373450|   8.05| NULL|       S|Class 3 - Allen, ...|\n",
            "+---+-----------+--------+------+--------------------+------+----+-----+-----+----------------+-------+-----+--------+--------------------+\n",
            "only showing top 5 rows\n",
            "\n"
          ]
        }
      ]
    },
    {
      "cell_type": "code",
      "source": [
        "titanic.withColumn(\"Expensive\", expr(\"Fare > 50\")).show(5)"
      ],
      "metadata": {
        "colab": {
          "base_uri": "https://localhost:8080/"
        },
        "id": "MxxKQteniUlW",
        "outputId": "cf795798-fe1d-4348-c7bd-8acc9d7e6030"
      },
      "execution_count": null,
      "outputs": [
        {
          "output_type": "stream",
          "name": "stdout",
          "text": [
            "+---+-----------+--------+------+--------------------+------+----+-----+-----+----------------+-------+-----+--------+---------+\n",
            "|_c0|PassengerId|Survived|Pclass|                Name|   Sex| Age|SibSp|Parch|          Ticket|   Fare|Cabin|Embarked|Expensive|\n",
            "+---+-----------+--------+------+--------------------+------+----+-----+-----+----------------+-------+-----+--------+---------+\n",
            "|  0|          1|       0|     3|Braund, Mr. Owen ...|  male|22.0|    1|    0|       A/5 21171|   7.25| NULL|       S|    false|\n",
            "|  1|          2|       1|     1|Cumings, Mrs. Joh...|female|38.0|    1|    0|        PC 17599|71.2833|  C85|       C|     true|\n",
            "|  2|          3|       1|     3|Heikkinen, Miss. ...|female|26.0|    0|    0|STON/O2. 3101282|  7.925| NULL|       S|    false|\n",
            "|  3|          4|       1|     1|Futrelle, Mrs. Ja...|female|35.0|    1|    0|          113803|   53.1| C123|       S|     true|\n",
            "|  4|          5|       0|     3|Allen, Mr. Willia...|  male|35.0|    0|    0|          373450|   8.05| NULL|       S|    false|\n",
            "+---+-----------+--------+------+--------------------+------+----+-----+-----+----------------+-------+-----+--------+---------+\n",
            "only showing top 5 rows\n",
            "\n"
          ]
        }
      ]
    },
    {
      "cell_type": "markdown",
      "source": [
        "Row objects"
      ],
      "metadata": {
        "id": "UVx3CxJWlDaR"
      }
    },
    {
      "cell_type": "code",
      "source": [
        "from pyspark.sql import Row\n",
        "blog_row = Row(6, \"Reynold\", \"Xin\", \"https://tinyurl.6\", 255568, \"3/2/2015\",\n",
        "  [\"twitter\", \"LinkedIn\"])\n",
        "# access using index for individual items, or slicing for multiple items\n",
        "blog_row[1:3]"
      ],
      "metadata": {
        "colab": {
          "base_uri": "https://localhost:8080/"
        },
        "id": "cOMYFubUlFPb",
        "outputId": "bc68a6aa-cf76-4c8e-98f5-1d1e2375f9a0"
      },
      "execution_count": null,
      "outputs": [
        {
          "output_type": "execute_result",
          "data": {
            "text/plain": [
              "('Reynold', 'Xin')"
            ]
          },
          "metadata": {},
          "execution_count": 37
        }
      ]
    },
    {
      "cell_type": "markdown",
      "source": [
        "You can create dataframes by using Row objects"
      ],
      "metadata": {
        "id": "ODrC4dBllQYw"
      }
    },
    {
      "cell_type": "code",
      "source": [
        "rows = [Row(\"Matei Zaharia\", \"CA\"), Row(\"Reynold Xin\", \"CA\")]\n",
        "authors_df = spark.createDataFrame(rows, [\"Authors\", \"State\"])\n",
        "authors_df.show()"
      ],
      "metadata": {
        "colab": {
          "base_uri": "https://localhost:8080/"
        },
        "id": "yJDtt2ZhlTjD",
        "outputId": "9dcf2b04-1138-43a9-9b49-ef8d8e9cdaa2"
      },
      "execution_count": null,
      "outputs": [
        {
          "output_type": "stream",
          "name": "stdout",
          "text": [
            "+-------------+-----+\n",
            "|      Authors|State|\n",
            "+-------------+-----+\n",
            "|Matei Zaharia|   CA|\n",
            "|  Reynold Xin|   CA|\n",
            "+-------------+-----+\n",
            "\n"
          ]
        }
      ]
    },
    {
      "cell_type": "markdown",
      "source": [
        "Using DataFrame Reader and DataFrameWriter"
      ],
      "metadata": {
        "id": "QdhV-336nhlJ"
      }
    },
    {
      "cell_type": "code",
      "source": [
        "from pyspark.sql.types import StructType, StructField, IntegerType, StringType, DoubleType\n",
        "\n",
        "titanic_schema = StructType([\n",
        "    StructField(\"PassengerId\", IntegerType(), True),\n",
        "    StructField(\"Survived\", IntegerType(), True),\n",
        "    StructField(\"Pclass\", IntegerType(), True),\n",
        "    StructField(\"Name\", StringType(), True),\n",
        "    StructField(\"Sex\", StringType(), True),\n",
        "    StructField(\"Age\", DoubleType(), True),       # age can be fractional / null\n",
        "    StructField(\"SibSp\", IntegerType(), True),    # siblings/spouses aboard\n",
        "    StructField(\"Parch\", IntegerType(), True),    # parents/children aboard\n",
        "    StructField(\"Ticket\", StringType(), True),\n",
        "    StructField(\"Fare\", DoubleType(), True),\n",
        "    StructField(\"Cabin\", StringType(), True),\n",
        "    StructField(\"Embarked\", StringType(), True)   # port of embarkation\n",
        "])\n"
      ],
      "metadata": {
        "id": "JsURfWTUnpRk"
      },
      "execution_count": null,
      "outputs": []
    },
    {
      "cell_type": "code",
      "source": [
        "titanic_df = spark.read \\\n",
        "    .option(\"header\", True) \\\n",
        "    .schema(titanic_schema) \\\n",
        "    .csv(\"/content/drive/MyDrive/DATA/titanic.csv\")\n",
        "\n",
        "titanic_df_alternative = spark.read.csv(\"/content/drive/MyDrive/DATA/titanic.csv\", header=True, schema=titanic_schema)\n",
        "\n",
        "titanic_df.printSchema()\n",
        "titanic_df.show(5, truncate=False)\n",
        "\n",
        "titanic_df_alternative.printSchema()\n",
        "titanic_df_alternative.show(5, truncate=False)"
      ],
      "metadata": {
        "colab": {
          "base_uri": "https://localhost:8080/"
        },
        "id": "VD3WebSspPJ1",
        "outputId": "ecec185c-3a52-4461-8ebd-4dbe497eca19"
      },
      "execution_count": null,
      "outputs": [
        {
          "output_type": "stream",
          "name": "stdout",
          "text": [
            "root\n",
            " |-- PassengerId: integer (nullable = true)\n",
            " |-- Survived: integer (nullable = true)\n",
            " |-- Pclass: integer (nullable = true)\n",
            " |-- Name: string (nullable = true)\n",
            " |-- Sex: string (nullable = true)\n",
            " |-- Age: double (nullable = true)\n",
            " |-- SibSp: integer (nullable = true)\n",
            " |-- Parch: integer (nullable = true)\n",
            " |-- Ticket: string (nullable = true)\n",
            " |-- Fare: double (nullable = true)\n",
            " |-- Cabin: string (nullable = true)\n",
            " |-- Embarked: string (nullable = true)\n",
            "\n",
            "+-----------+--------+------+----+---------------------------------------------------+----+-----+-----+------+--------+-------+--------+\n",
            "|PassengerId|Survived|Pclass|Name|Sex                                                |Age |SibSp|Parch|Ticket|Fare    |Cabin  |Embarked|\n",
            "+-----------+--------+------+----+---------------------------------------------------+----+-----+-----+------+--------+-------+--------+\n",
            "|0          |1       |0     |3   |Braund, Mr. Owen Harris                            |NULL|NULL |1    |0     |NULL    |7.25   |NULL    |\n",
            "|1          |2       |1     |1   |Cumings, Mrs. John Bradley (Florence Briggs Thayer)|NULL|NULL |1    |0     |NULL    |71.2833|C85     |\n",
            "|2          |3       |1     |3   |Heikkinen, Miss. Laina                             |NULL|NULL |0    |0     |NULL    |7.925  |NULL    |\n",
            "|3          |4       |1     |1   |Futrelle, Mrs. Jacques Heath (Lily May Peel)       |NULL|NULL |1    |0     |113803.0|53.1   |C123    |\n",
            "|4          |5       |0     |3   |Allen, Mr. William Henry                           |NULL|NULL |0    |0     |373450.0|8.05   |NULL    |\n",
            "+-----------+--------+------+----+---------------------------------------------------+----+-----+-----+------+--------+-------+--------+\n",
            "only showing top 5 rows\n",
            "\n",
            "root\n",
            " |-- PassengerId: integer (nullable = true)\n",
            " |-- Survived: integer (nullable = true)\n",
            " |-- Pclass: integer (nullable = true)\n",
            " |-- Name: string (nullable = true)\n",
            " |-- Sex: string (nullable = true)\n",
            " |-- Age: double (nullable = true)\n",
            " |-- SibSp: integer (nullable = true)\n",
            " |-- Parch: integer (nullable = true)\n",
            " |-- Ticket: string (nullable = true)\n",
            " |-- Fare: double (nullable = true)\n",
            " |-- Cabin: string (nullable = true)\n",
            " |-- Embarked: string (nullable = true)\n",
            "\n",
            "+-----------+--------+------+----+---------------------------------------------------+----+-----+-----+------+--------+-------+--------+\n",
            "|PassengerId|Survived|Pclass|Name|Sex                                                |Age |SibSp|Parch|Ticket|Fare    |Cabin  |Embarked|\n",
            "+-----------+--------+------+----+---------------------------------------------------+----+-----+-----+------+--------+-------+--------+\n",
            "|0          |1       |0     |3   |Braund, Mr. Owen Harris                            |NULL|NULL |1    |0     |NULL    |7.25   |NULL    |\n",
            "|1          |2       |1     |1   |Cumings, Mrs. John Bradley (Florence Briggs Thayer)|NULL|NULL |1    |0     |NULL    |71.2833|C85     |\n",
            "|2          |3       |1     |3   |Heikkinen, Miss. Laina                             |NULL|NULL |0    |0     |NULL    |7.925  |NULL    |\n",
            "|3          |4       |1     |1   |Futrelle, Mrs. Jacques Heath (Lily May Peel)       |NULL|NULL |1    |0     |113803.0|53.1   |C123    |\n",
            "|4          |5       |0     |3   |Allen, Mr. William Henry                           |NULL|NULL |0    |0     |373450.0|8.05   |NULL    |\n",
            "+-----------+--------+------+----+---------------------------------------------------+----+-----+-----+------+--------+-------+--------+\n",
            "only showing top 5 rows\n",
            "\n"
          ]
        }
      ]
    },
    {
      "cell_type": "markdown",
      "source": [
        "How to write?"
      ],
      "metadata": {
        "id": "gcToV0auqg1a"
      }
    },
    {
      "cell_type": "code",
      "source": [
        "titanic_df.write.saveAsTable(\"titanic_table\")"
      ],
      "metadata": {
        "id": "nv4qD_Ziqi47"
      },
      "execution_count": null,
      "outputs": []
    },
    {
      "cell_type": "code",
      "source": [
        "df2 = spark.sql(\"SELECT * FROM titanic_table\")\n",
        "df2.show()"
      ],
      "metadata": {
        "colab": {
          "base_uri": "https://localhost:8080/"
        },
        "id": "-s7pgg_qqthK",
        "outputId": "569508f5-7174-47e3-b7d8-5ef37e4442e2"
      },
      "execution_count": null,
      "outputs": [
        {
          "output_type": "stream",
          "name": "stdout",
          "text": [
            "+-----------+--------+------+----+--------------------+----+-----+-----+------+--------+-------+--------+\n",
            "|PassengerId|Survived|Pclass|Name|                 Sex| Age|SibSp|Parch|Ticket|    Fare|  Cabin|Embarked|\n",
            "+-----------+--------+------+----+--------------------+----+-----+-----+------+--------+-------+--------+\n",
            "|          0|       1|     0|   3|Braund, Mr. Owen ...|NULL| NULL|    1|     0|    NULL|   7.25|    NULL|\n",
            "|          1|       2|     1|   1|Cumings, Mrs. Joh...|NULL| NULL|    1|     0|    NULL|71.2833|     C85|\n",
            "|          2|       3|     1|   3|Heikkinen, Miss. ...|NULL| NULL|    0|     0|    NULL|  7.925|    NULL|\n",
            "|          3|       4|     1|   1|Futrelle, Mrs. Ja...|NULL| NULL|    1|     0|113803.0|   53.1|    C123|\n",
            "|          4|       5|     0|   3|Allen, Mr. Willia...|NULL| NULL|    0|     0|373450.0|   8.05|    NULL|\n",
            "|          5|       6|     0|   3|    Moran, Mr. James|NULL| NULL|    0|     0|330877.0| 8.4583|    NULL|\n",
            "|          6|       7|     0|   1|McCarthy, Mr. Tim...|NULL| NULL|    0|     0| 17463.0|51.8625|     E46|\n",
            "|          7|       8|     0|   3|Palsson, Master. ...|NULL| NULL|    3|     1|349909.0| 21.075|    NULL|\n",
            "|          8|       9|     1|   3|Johnson, Mrs. Osc...|NULL| NULL|    0|     2|347742.0|11.1333|    NULL|\n",
            "|          9|      10|     1|   2|Nasser, Mrs. Nich...|NULL| NULL|    1|     0|237736.0|30.0708|    NULL|\n",
            "|         10|      11|     1|   3|Sandstrom, Miss. ...|NULL| NULL|    1|     1|    NULL|   16.7|      G6|\n",
            "|         11|      12|     1|   1|Bonnell, Miss. El...|NULL| NULL|    0|     0|113783.0|  26.55|    C103|\n",
            "|         12|      13|     0|   3|Saundercock, Mr. ...|NULL| NULL|    0|     0|    NULL|   8.05|    NULL|\n",
            "|         13|      14|     0|   3|Andersson, Mr. An...|NULL| NULL|    1|     5|347082.0| 31.275|    NULL|\n",
            "|         14|      15|     0|   3|Vestrom, Miss. Hu...|NULL| NULL|    0|     0|350406.0| 7.8542|    NULL|\n",
            "|         15|      16|     1|   2|Hewlett, Mrs. (Ma...|NULL| NULL|    0|     0|248706.0|   16.0|    NULL|\n",
            "|         16|      17|     0|   3|Rice, Master. Eugene|NULL| NULL|    4|     1|382652.0| 29.125|    NULL|\n",
            "|         17|      18|     1|   2|Williams, Mr. Cha...|NULL| NULL|    0|     0|244373.0|   13.0|    NULL|\n",
            "|         18|      19|     0|   3|Vander Planke, Mr...|NULL| NULL|    1|     0|345763.0|   18.0|    NULL|\n",
            "|         19|      20|     1|   3|Masselmani, Mrs. ...|NULL| NULL|    0|     0|  2649.0|  7.225|    NULL|\n",
            "+-----------+--------+------+----+--------------------+----+-----+-----+------+--------+-------+--------+\n",
            "only showing top 20 rows\n",
            "\n"
          ]
        }
      ]
    },
    {
      "cell_type": "markdown",
      "source": [
        "Exercise: Can you read the Blue Jays dataset and report the average Skull size for each gender (KnownSex)?"
      ],
      "metadata": {
        "id": "eoi9FS9v5hJS"
      }
    },
    {
      "cell_type": "code",
      "source": [
        "import pandas as pd\n",
        "bj = pd.read_csv(\"/content/drive/MyDrive/DATA/Blue_Jays.csv\") #this code is for you to view the data\n",
        "bj.head()"
      ],
      "metadata": {
        "colab": {
          "base_uri": "https://localhost:8080/",
          "height": 206
        },
        "id": "4Qctsq4f51eE",
        "outputId": "a9880103-34ee-4625-aa4f-d481afa9c2ad"
      },
      "execution_count": null,
      "outputs": [
        {
          "output_type": "execute_result",
          "data": {
            "text/plain": [
              "   Unnamed: 0  X      BirdID KnownSex  BillDepth  BillWidth  BillLength  \\\n",
              "0           1  1  0000-00000        M       8.26       9.21       25.92   \n",
              "1           2  2  1142-05901        M       8.54       8.76       24.99   \n",
              "2           3  3  1142-05905        M       8.39       8.78       26.07   \n",
              "3           4  4  1142-05907        F       7.78       9.30       23.48   \n",
              "4           5  5  1142-05909        M       8.71       9.84       25.47   \n",
              "\n",
              "    Head   Mass  Skull  Sex  \n",
              "0  56.58  73.30  30.66    1  \n",
              "1  56.36  75.10  31.38    1  \n",
              "2  57.32  70.25  31.25    1  \n",
              "3  53.77  65.50  30.29    0  \n",
              "4  57.32  74.90  31.85    1  "
            ],
            "text/html": [
              "\n",
              "  <div id=\"df-cd31541d-cf45-44a3-998f-b3dcd77937ea\" class=\"colab-df-container\">\n",
              "    <div>\n",
              "<style scoped>\n",
              "    .dataframe tbody tr th:only-of-type {\n",
              "        vertical-align: middle;\n",
              "    }\n",
              "\n",
              "    .dataframe tbody tr th {\n",
              "        vertical-align: top;\n",
              "    }\n",
              "\n",
              "    .dataframe thead th {\n",
              "        text-align: right;\n",
              "    }\n",
              "</style>\n",
              "<table border=\"1\" class=\"dataframe\">\n",
              "  <thead>\n",
              "    <tr style=\"text-align: right;\">\n",
              "      <th></th>\n",
              "      <th>Unnamed: 0</th>\n",
              "      <th>X</th>\n",
              "      <th>BirdID</th>\n",
              "      <th>KnownSex</th>\n",
              "      <th>BillDepth</th>\n",
              "      <th>BillWidth</th>\n",
              "      <th>BillLength</th>\n",
              "      <th>Head</th>\n",
              "      <th>Mass</th>\n",
              "      <th>Skull</th>\n",
              "      <th>Sex</th>\n",
              "    </tr>\n",
              "  </thead>\n",
              "  <tbody>\n",
              "    <tr>\n",
              "      <th>0</th>\n",
              "      <td>1</td>\n",
              "      <td>1</td>\n",
              "      <td>0000-00000</td>\n",
              "      <td>M</td>\n",
              "      <td>8.26</td>\n",
              "      <td>9.21</td>\n",
              "      <td>25.92</td>\n",
              "      <td>56.58</td>\n",
              "      <td>73.30</td>\n",
              "      <td>30.66</td>\n",
              "      <td>1</td>\n",
              "    </tr>\n",
              "    <tr>\n",
              "      <th>1</th>\n",
              "      <td>2</td>\n",
              "      <td>2</td>\n",
              "      <td>1142-05901</td>\n",
              "      <td>M</td>\n",
              "      <td>8.54</td>\n",
              "      <td>8.76</td>\n",
              "      <td>24.99</td>\n",
              "      <td>56.36</td>\n",
              "      <td>75.10</td>\n",
              "      <td>31.38</td>\n",
              "      <td>1</td>\n",
              "    </tr>\n",
              "    <tr>\n",
              "      <th>2</th>\n",
              "      <td>3</td>\n",
              "      <td>3</td>\n",
              "      <td>1142-05905</td>\n",
              "      <td>M</td>\n",
              "      <td>8.39</td>\n",
              "      <td>8.78</td>\n",
              "      <td>26.07</td>\n",
              "      <td>57.32</td>\n",
              "      <td>70.25</td>\n",
              "      <td>31.25</td>\n",
              "      <td>1</td>\n",
              "    </tr>\n",
              "    <tr>\n",
              "      <th>3</th>\n",
              "      <td>4</td>\n",
              "      <td>4</td>\n",
              "      <td>1142-05907</td>\n",
              "      <td>F</td>\n",
              "      <td>7.78</td>\n",
              "      <td>9.30</td>\n",
              "      <td>23.48</td>\n",
              "      <td>53.77</td>\n",
              "      <td>65.50</td>\n",
              "      <td>30.29</td>\n",
              "      <td>0</td>\n",
              "    </tr>\n",
              "    <tr>\n",
              "      <th>4</th>\n",
              "      <td>5</td>\n",
              "      <td>5</td>\n",
              "      <td>1142-05909</td>\n",
              "      <td>M</td>\n",
              "      <td>8.71</td>\n",
              "      <td>9.84</td>\n",
              "      <td>25.47</td>\n",
              "      <td>57.32</td>\n",
              "      <td>74.90</td>\n",
              "      <td>31.85</td>\n",
              "      <td>1</td>\n",
              "    </tr>\n",
              "  </tbody>\n",
              "</table>\n",
              "</div>\n",
              "    <div class=\"colab-df-buttons\">\n",
              "\n",
              "  <div class=\"colab-df-container\">\n",
              "    <button class=\"colab-df-convert\" onclick=\"convertToInteractive('df-cd31541d-cf45-44a3-998f-b3dcd77937ea')\"\n",
              "            title=\"Convert this dataframe to an interactive table.\"\n",
              "            style=\"display:none;\">\n",
              "\n",
              "  <svg xmlns=\"http://www.w3.org/2000/svg\" height=\"24px\" viewBox=\"0 -960 960 960\">\n",
              "    <path d=\"M120-120v-720h720v720H120Zm60-500h600v-160H180v160Zm220 220h160v-160H400v160Zm0 220h160v-160H400v160ZM180-400h160v-160H180v160Zm440 0h160v-160H620v160ZM180-180h160v-160H180v160Zm440 0h160v-160H620v160Z\"/>\n",
              "  </svg>\n",
              "    </button>\n",
              "\n",
              "  <style>\n",
              "    .colab-df-container {\n",
              "      display:flex;\n",
              "      gap: 12px;\n",
              "    }\n",
              "\n",
              "    .colab-df-convert {\n",
              "      background-color: #E8F0FE;\n",
              "      border: none;\n",
              "      border-radius: 50%;\n",
              "      cursor: pointer;\n",
              "      display: none;\n",
              "      fill: #1967D2;\n",
              "      height: 32px;\n",
              "      padding: 0 0 0 0;\n",
              "      width: 32px;\n",
              "    }\n",
              "\n",
              "    .colab-df-convert:hover {\n",
              "      background-color: #E2EBFA;\n",
              "      box-shadow: 0px 1px 2px rgba(60, 64, 67, 0.3), 0px 1px 3px 1px rgba(60, 64, 67, 0.15);\n",
              "      fill: #174EA6;\n",
              "    }\n",
              "\n",
              "    .colab-df-buttons div {\n",
              "      margin-bottom: 4px;\n",
              "    }\n",
              "\n",
              "    [theme=dark] .colab-df-convert {\n",
              "      background-color: #3B4455;\n",
              "      fill: #D2E3FC;\n",
              "    }\n",
              "\n",
              "    [theme=dark] .colab-df-convert:hover {\n",
              "      background-color: #434B5C;\n",
              "      box-shadow: 0px 1px 3px 1px rgba(0, 0, 0, 0.15);\n",
              "      filter: drop-shadow(0px 1px 2px rgba(0, 0, 0, 0.3));\n",
              "      fill: #FFFFFF;\n",
              "    }\n",
              "  </style>\n",
              "\n",
              "    <script>\n",
              "      const buttonEl =\n",
              "        document.querySelector('#df-cd31541d-cf45-44a3-998f-b3dcd77937ea button.colab-df-convert');\n",
              "      buttonEl.style.display =\n",
              "        google.colab.kernel.accessAllowed ? 'block' : 'none';\n",
              "\n",
              "      async function convertToInteractive(key) {\n",
              "        const element = document.querySelector('#df-cd31541d-cf45-44a3-998f-b3dcd77937ea');\n",
              "        const dataTable =\n",
              "          await google.colab.kernel.invokeFunction('convertToInteractive',\n",
              "                                                    [key], {});\n",
              "        if (!dataTable) return;\n",
              "\n",
              "        const docLinkHtml = 'Like what you see? Visit the ' +\n",
              "          '<a target=\"_blank\" href=https://colab.research.google.com/notebooks/data_table.ipynb>data table notebook</a>'\n",
              "          + ' to learn more about interactive tables.';\n",
              "        element.innerHTML = '';\n",
              "        dataTable['output_type'] = 'display_data';\n",
              "        await google.colab.output.renderOutput(dataTable, element);\n",
              "        const docLink = document.createElement('div');\n",
              "        docLink.innerHTML = docLinkHtml;\n",
              "        element.appendChild(docLink);\n",
              "      }\n",
              "    </script>\n",
              "  </div>\n",
              "\n",
              "\n",
              "    <div id=\"df-bdcd23c7-f88d-4e6c-ac7e-9c5fd08cbd50\">\n",
              "      <button class=\"colab-df-quickchart\" onclick=\"quickchart('df-bdcd23c7-f88d-4e6c-ac7e-9c5fd08cbd50')\"\n",
              "                title=\"Suggest charts\"\n",
              "                style=\"display:none;\">\n",
              "\n",
              "<svg xmlns=\"http://www.w3.org/2000/svg\" height=\"24px\"viewBox=\"0 0 24 24\"\n",
              "     width=\"24px\">\n",
              "    <g>\n",
              "        <path d=\"M19 3H5c-1.1 0-2 .9-2 2v14c0 1.1.9 2 2 2h14c1.1 0 2-.9 2-2V5c0-1.1-.9-2-2-2zM9 17H7v-7h2v7zm4 0h-2V7h2v10zm4 0h-2v-4h2v4z\"/>\n",
              "    </g>\n",
              "</svg>\n",
              "      </button>\n",
              "\n",
              "<style>\n",
              "  .colab-df-quickchart {\n",
              "      --bg-color: #E8F0FE;\n",
              "      --fill-color: #1967D2;\n",
              "      --hover-bg-color: #E2EBFA;\n",
              "      --hover-fill-color: #174EA6;\n",
              "      --disabled-fill-color: #AAA;\n",
              "      --disabled-bg-color: #DDD;\n",
              "  }\n",
              "\n",
              "  [theme=dark] .colab-df-quickchart {\n",
              "      --bg-color: #3B4455;\n",
              "      --fill-color: #D2E3FC;\n",
              "      --hover-bg-color: #434B5C;\n",
              "      --hover-fill-color: #FFFFFF;\n",
              "      --disabled-bg-color: #3B4455;\n",
              "      --disabled-fill-color: #666;\n",
              "  }\n",
              "\n",
              "  .colab-df-quickchart {\n",
              "    background-color: var(--bg-color);\n",
              "    border: none;\n",
              "    border-radius: 50%;\n",
              "    cursor: pointer;\n",
              "    display: none;\n",
              "    fill: var(--fill-color);\n",
              "    height: 32px;\n",
              "    padding: 0;\n",
              "    width: 32px;\n",
              "  }\n",
              "\n",
              "  .colab-df-quickchart:hover {\n",
              "    background-color: var(--hover-bg-color);\n",
              "    box-shadow: 0 1px 2px rgba(60, 64, 67, 0.3), 0 1px 3px 1px rgba(60, 64, 67, 0.15);\n",
              "    fill: var(--button-hover-fill-color);\n",
              "  }\n",
              "\n",
              "  .colab-df-quickchart-complete:disabled,\n",
              "  .colab-df-quickchart-complete:disabled:hover {\n",
              "    background-color: var(--disabled-bg-color);\n",
              "    fill: var(--disabled-fill-color);\n",
              "    box-shadow: none;\n",
              "  }\n",
              "\n",
              "  .colab-df-spinner {\n",
              "    border: 2px solid var(--fill-color);\n",
              "    border-color: transparent;\n",
              "    border-bottom-color: var(--fill-color);\n",
              "    animation:\n",
              "      spin 1s steps(1) infinite;\n",
              "  }\n",
              "\n",
              "  @keyframes spin {\n",
              "    0% {\n",
              "      border-color: transparent;\n",
              "      border-bottom-color: var(--fill-color);\n",
              "      border-left-color: var(--fill-color);\n",
              "    }\n",
              "    20% {\n",
              "      border-color: transparent;\n",
              "      border-left-color: var(--fill-color);\n",
              "      border-top-color: var(--fill-color);\n",
              "    }\n",
              "    30% {\n",
              "      border-color: transparent;\n",
              "      border-left-color: var(--fill-color);\n",
              "      border-top-color: var(--fill-color);\n",
              "      border-right-color: var(--fill-color);\n",
              "    }\n",
              "    40% {\n",
              "      border-color: transparent;\n",
              "      border-right-color: var(--fill-color);\n",
              "      border-top-color: var(--fill-color);\n",
              "    }\n",
              "    60% {\n",
              "      border-color: transparent;\n",
              "      border-right-color: var(--fill-color);\n",
              "    }\n",
              "    80% {\n",
              "      border-color: transparent;\n",
              "      border-right-color: var(--fill-color);\n",
              "      border-bottom-color: var(--fill-color);\n",
              "    }\n",
              "    90% {\n",
              "      border-color: transparent;\n",
              "      border-bottom-color: var(--fill-color);\n",
              "    }\n",
              "  }\n",
              "</style>\n",
              "\n",
              "      <script>\n",
              "        async function quickchart(key) {\n",
              "          const quickchartButtonEl =\n",
              "            document.querySelector('#' + key + ' button');\n",
              "          quickchartButtonEl.disabled = true;  // To prevent multiple clicks.\n",
              "          quickchartButtonEl.classList.add('colab-df-spinner');\n",
              "          try {\n",
              "            const charts = await google.colab.kernel.invokeFunction(\n",
              "                'suggestCharts', [key], {});\n",
              "          } catch (error) {\n",
              "            console.error('Error during call to suggestCharts:', error);\n",
              "          }\n",
              "          quickchartButtonEl.classList.remove('colab-df-spinner');\n",
              "          quickchartButtonEl.classList.add('colab-df-quickchart-complete');\n",
              "        }\n",
              "        (() => {\n",
              "          let quickchartButtonEl =\n",
              "            document.querySelector('#df-bdcd23c7-f88d-4e6c-ac7e-9c5fd08cbd50 button');\n",
              "          quickchartButtonEl.style.display =\n",
              "            google.colab.kernel.accessAllowed ? 'block' : 'none';\n",
              "        })();\n",
              "      </script>\n",
              "    </div>\n",
              "\n",
              "    </div>\n",
              "  </div>\n"
            ],
            "application/vnd.google.colaboratory.intrinsic+json": {
              "type": "dataframe",
              "variable_name": "bj",
              "summary": "{\n  \"name\": \"bj\",\n  \"rows\": 123,\n  \"fields\": [\n    {\n      \"column\": \"Unnamed: 0\",\n      \"properties\": {\n        \"dtype\": \"number\",\n        \"std\": 35,\n        \"min\": 1,\n        \"max\": 123,\n        \"num_unique_values\": 123,\n        \"samples\": [\n          19,\n          46,\n          48\n        ],\n        \"semantic_type\": \"\",\n        \"description\": \"\"\n      }\n    },\n    {\n      \"column\": \"X\",\n      \"properties\": {\n        \"dtype\": \"number\",\n        \"std\": 35,\n        \"min\": 1,\n        \"max\": 123,\n        \"num_unique_values\": 123,\n        \"samples\": [\n          19,\n          46,\n          48\n        ],\n        \"semantic_type\": \"\",\n        \"description\": \"\"\n      }\n    },\n    {\n      \"column\": \"BirdID\",\n      \"properties\": {\n        \"dtype\": \"string\",\n        \"num_unique_values\": 123,\n        \"samples\": [\n          \"1142-05995\",\n          \"872-94769\",\n          \"872-94776\"\n        ],\n        \"semantic_type\": \"\",\n        \"description\": \"\"\n      }\n    },\n    {\n      \"column\": \"KnownSex\",\n      \"properties\": {\n        \"dtype\": \"category\",\n        \"num_unique_values\": 2,\n        \"samples\": [\n          \"F\",\n          \"M\"\n        ],\n        \"semantic_type\": \"\",\n        \"description\": \"\"\n      }\n    },\n    {\n      \"column\": \"BillDepth\",\n      \"properties\": {\n        \"dtype\": \"number\",\n        \"std\": 0.39018994612330954,\n        \"min\": 7.21,\n        \"max\": 9.0,\n        \"num_unique_values\": 78,\n        \"samples\": [\n          8.6,\n          8.26\n        ],\n        \"semantic_type\": \"\",\n        \"description\": \"\"\n      }\n    },\n    {\n      \"column\": \"BillWidth\",\n      \"properties\": {\n        \"dtype\": \"number\",\n        \"std\": 0.5334957602857181,\n        \"min\": 8.0,\n        \"max\": 10.82,\n        \"num_unique_values\": 82,\n        \"samples\": [\n          10.24,\n          9.21\n        ],\n        \"semantic_type\": \"\",\n        \"description\": \"\"\n      }\n    },\n    {\n      \"column\": \"BillLength\",\n      \"properties\": {\n        \"dtype\": \"number\",\n        \"std\": 1.175627202931223,\n        \"min\": 22.25,\n        \"max\": 30.0,\n        \"num_unique_values\": 95,\n        \"samples\": [\n          26.62,\n          26.66\n        ],\n        \"semantic_type\": \"\",\n        \"description\": \"\"\n      }\n    },\n    {\n      \"column\": \"Head\",\n      \"properties\": {\n        \"dtype\": \"number\",\n        \"std\": 1.5695980116469526,\n        \"min\": 51.6,\n        \"max\": 60.67,\n        \"num_unique_values\": 106,\n        \"samples\": [\n          57.25,\n          54.69\n        ],\n        \"semantic_type\": \"\",\n        \"description\": \"\"\n      }\n    },\n    {\n      \"column\": \"Mass\",\n      \"properties\": {\n        \"dtype\": \"number\",\n        \"std\": 4.766696253807549,\n        \"min\": 58.8,\n        \"max\": 81.5,\n        \"num_unique_values\": 94,\n        \"samples\": [\n          79.5,\n          74.5\n        ],\n        \"semantic_type\": \"\",\n        \"description\": \"\"\n      }\n    },\n    {\n      \"column\": \"Skull\",\n      \"properties\": {\n        \"dtype\": \"number\",\n        \"std\": 0.9161406485132016,\n        \"min\": 28.82,\n        \"max\": 33.3,\n        \"num_unique_values\": 102,\n        \"samples\": [\n          29.77,\n          29.8\n        ],\n        \"semantic_type\": \"\",\n        \"description\": \"\"\n      }\n    },\n    {\n      \"column\": \"Sex\",\n      \"properties\": {\n        \"dtype\": \"number\",\n        \"std\": 0,\n        \"min\": 0,\n        \"max\": 1,\n        \"num_unique_values\": 2,\n        \"samples\": [\n          0,\n          1\n        ],\n        \"semantic_type\": \"\",\n        \"description\": \"\"\n      }\n    }\n  ]\n}"
            }
          },
          "metadata": {},
          "execution_count": 4
        }
      ]
    }
  ]
}