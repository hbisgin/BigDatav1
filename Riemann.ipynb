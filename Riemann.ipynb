{
 "cells": [
  {
   "cell_type": "code",
   "execution_count": 0,
   "metadata": {
    "application/vnd.databricks.v1+cell": {
     "cellMetadata": {
      "byteLimit": 2048000,
      "rowLimit": 10000
     },
     "inputWidgets": {},
     "nuid": "1976e782-f0e3-4e26-8ddf-33a959debe0a",
     "showTitle": false,
     "tableResultSettingsMap": {},
     "title": ""
    }
   },
   "outputs": [],
   "source": [
    "from pyspark.sql import SparkSession\n",
    "\n",
    "# Initialize Spark session\n",
    "spark = SparkSession.builder.appName(\"IntegralApproximation\").getOrCreate()\n",
    "sc = spark.sparkContext\n",
    "\n",
    "# Function and interval\n",
    "a = 0  # Lower limit\n",
    "b = 4  # Upper limit\n",
    "n = 100000  # Number of intervals (higher = more accurate)\n",
    "\n",
    "dx = (b - a) / n  # Step size\n",
    "\n",
    "# Create RDD with n values from 0 to n-1\n",
    "rdd = sc.parallelize(range(n))\n",
    "\n",
    "# Use midpoint Riemann sum: x_i = a + (i + 0.5) * dx\n",
    "def f(x):\n",
    "    return x ** 2\n",
    "\n",
    "area = rdd.map(lambda i: f(a + (i + 0.5) * dx) * dx).sum()\n",
    "\n",
    "print(f\"Estimated integral of x^2 from {a} to {b} is: {area:.5f}\")\n",
    "\n",
    "spark.stop()\n"
   ]
  }
 ],
 "metadata": {
  "application/vnd.databricks.v1+notebook": {
   "computePreferences": null,
   "dashboards": [],
   "environmentMetadata": {
    "base_environment": "",
    "environment_version": "2"
   },
   "inputWidgetPreferences": null,
   "language": "python",
   "notebookMetadata": {
    "pythonIndentUnit": 4
   },
   "notebookName": "Riemann",
   "widgets": {}
  },
  "language_info": {
   "name": "python"
  }
 },
 "nbformat": 4,
 "nbformat_minor": 0
}
