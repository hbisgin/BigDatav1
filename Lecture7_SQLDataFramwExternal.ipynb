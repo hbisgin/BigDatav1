{
  "cells": [
    {
      "cell_type": "markdown",
      "metadata": {
        "id": "view-in-github",
        "colab_type": "text"
      },
      "source": [
        "<a href=\"https://colab.research.google.com/github/hbisgin/BigDatav1/blob/main/Lecture7_SQLDataFramwExternal.ipynb\" target=\"_parent\"><img src=\"https://colab.research.google.com/assets/colab-badge.svg\" alt=\"Open In Colab\"/></a>"
      ]
    },
    {
      "cell_type": "code",
      "execution_count": null,
      "metadata": {
        "id": "W8gIocERv2yB"
      },
      "outputs": [],
      "source": [
        "from pyspark.sql import SparkSession\n",
        "spark = SparkSession.builder.appName('SparkSQLDFwExternalDS.com').getOrCreate()"
      ]
    },
    {
      "cell_type": "markdown",
      "metadata": {
        "id": "AHH0c6wpxfb-"
      },
      "source": [
        "User-Defined Functions\n"
      ]
    },
    {
      "cell_type": "code",
      "execution_count": null,
      "metadata": {
        "id": "s-OajhgNw_hJ"
      },
      "outputs": [],
      "source": [
        "from pyspark.sql.types import LongType\n",
        "\n",
        "# Create cubed function\n",
        "def cubed(s):\n",
        "  return s * s * s\n",
        "\n",
        "# Register UDF (User-Defined Functions)\n",
        "spark.udf.register(\"cubed\", cubed, LongType())\n",
        "\n",
        "# Generate temporary view\n",
        "spark.range(1, 9).createOrReplaceTempView(\"udf_test\")"
      ]
    },
    {
      "cell_type": "code",
      "execution_count": null,
      "metadata": {
        "colab": {
          "base_uri": "https://localhost:8080/"
        },
        "id": "WQ9VgWMExX1V",
        "outputId": "38b2ac8d-4cb6-4b99-b72d-d5a78ad132e5"
      },
      "outputs": [
        {
          "output_type": "stream",
          "name": "stdout",
          "text": [
            "+---+--------+\n",
            "| id|id_cubed|\n",
            "+---+--------+\n",
            "|  1|       1|\n",
            "|  2|       8|\n",
            "|  3|      27|\n",
            "|  4|      64|\n",
            "|  5|     125|\n",
            "|  6|     216|\n",
            "|  7|     343|\n",
            "|  8|     512|\n",
            "+---+--------+\n",
            "\n"
          ]
        }
      ],
      "source": [
        "spark.sql(\"SELECT id, cubed(id) AS id_cubed FROM udf_test\").show()\n"
      ]
    },
    {
      "cell_type": "code",
      "execution_count": null,
      "metadata": {
        "id": "J1Qtsx2DzLdF"
      },
      "outputs": [],
      "source": [
        "import pandas as pd\n",
        "# Import various pyspark SQL functions including pandas_udf\n",
        "from pyspark.sql.functions import col, pandas_udf\n",
        "from pyspark.sql.types import LongType\n",
        "# Declare the cubed function\n",
        "def cubed(a: pd.Series) -> pd.Series:\n",
        "  return a * a * a\n",
        "# Create the pandas UDF for the cubed function\n",
        "cubed_udf = pandas_udf(cubed, returnType=LongType())"
      ]
    },
    {
      "cell_type": "code",
      "source": [
        "# Create a Pandas Series\n",
        "x = pd.Series([1, 2, 3])\n",
        "# The function for a pandas_udf executed with local Pandas data\n",
        "print(cubed(x))"
      ],
      "metadata": {
        "id": "Ot2w5M3jZmwH",
        "outputId": "462a2993-01a6-4129-eb8a-e3e6c1a6674b",
        "colab": {
          "base_uri": "https://localhost:8080/"
        }
      },
      "execution_count": null,
      "outputs": [
        {
          "output_type": "stream",
          "name": "stdout",
          "text": [
            "0     1\n",
            "1     8\n",
            "2    27\n",
            "dtype: int64\n"
          ]
        }
      ]
    }
  ],
  "metadata": {
    "colab": {
      "provenance": [],
      "authorship_tag": "ABX9TyOPMZT5EBLIxXEFT/FGqbK0",
      "include_colab_link": true
    },
    "kernelspec": {
      "display_name": "Python 3",
      "name": "python3"
    },
    "language_info": {
      "name": "python"
    }
  },
  "nbformat": 4,
  "nbformat_minor": 0
}