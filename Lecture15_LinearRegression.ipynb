{
  "nbformat": 4,
  "nbformat_minor": 0,
  "metadata": {
    "colab": {
      "provenance": [],
      "authorship_tag": "ABX9TyP9XocmCd7jvBZyiIV3DpxZ",
      "include_colab_link": true
    },
    "kernelspec": {
      "name": "python3",
      "display_name": "Python 3"
    },
    "language_info": {
      "name": "python"
    }
  },
  "cells": [
    {
      "cell_type": "markdown",
      "metadata": {
        "id": "view-in-github",
        "colab_type": "text"
      },
      "source": [
        "<a href=\"https://colab.research.google.com/github/hbisgin/BigDatav1/blob/main/Lecture15_LinearRegression.ipynb\" target=\"_parent\"><img src=\"https://colab.research.google.com/assets/colab-badge.svg\" alt=\"Open In Colab\"/></a>"
      ]
    },
    {
      "cell_type": "code",
      "execution_count": 1,
      "metadata": {
        "colab": {
          "base_uri": "https://localhost:8080/"
        },
        "id": "tykg8rZ_clJ_",
        "outputId": "a8298e94-2af0-47e4-fae3-c6d673eabc99"
      },
      "outputs": [
        {
          "output_type": "stream",
          "name": "stdout",
          "text": [
            "+--------+-----+\n",
            "|features|label|\n",
            "+--------+-----+\n",
            "|   [1.0]|  2.0|\n",
            "|   [2.0]|  2.8|\n",
            "|   [3.0]|  4.2|\n",
            "|   [4.0]|  4.9|\n",
            "|   [5.0]|  6.1|\n",
            "|   [6.0]|  6.8|\n",
            "+--------+-----+\n",
            "\n"
          ]
        }
      ],
      "source": [
        "# ------------------------------------------\n",
        "# 1. Import libraries\n",
        "# ------------------------------------------\n",
        "from pyspark.sql import SparkSession\n",
        "from pyspark.ml.regression import LinearRegression\n",
        "from pyspark.ml.linalg import Vectors\n",
        "from pyspark.sql.functions import col\n",
        "\n",
        "# ------------------------------------------\n",
        "# 2. Start Spark session\n",
        "# ------------------------------------------\n",
        "spark = SparkSession.builder \\\n",
        "    .appName(\"LinearRegressionExample\") \\\n",
        "    .getOrCreate()\n",
        "\n",
        "# ------------------------------------------\n",
        "# 3. Create sample dataset\n",
        "# ------------------------------------------\n",
        "data = [\n",
        "    (1.0, 2.0),\n",
        "    (2.0, 2.8),\n",
        "    (3.0, 4.2),\n",
        "    (4.0, 4.9),\n",
        "    (5.0, 6.1),\n",
        "    (6.0, 6.8)\n",
        "]\n",
        "\n",
        "columns = [\"feature\", \"label\"]\n",
        "df = spark.createDataFrame(data, columns)\n",
        "\n",
        "# Spark’s ML models expect a vector column named “features”\n",
        "from pyspark.ml.feature import VectorAssembler\n",
        "assembler = VectorAssembler(inputCols=[\"feature\"], outputCol=\"features\")\n",
        "train_df = assembler.transform(df).select(\"features\", \"label\")\n",
        "\n",
        "train_df.show()\n"
      ]
    },
    {
      "cell_type": "code",
      "source": [
        "# ------------------------------------------\n",
        "# 4. Fit Linear Regression model\n",
        "# ------------------------------------------\n",
        "lr = LinearRegression(featuresCol='features', labelCol='label')\n",
        "lr_model = lr.fit(train_df)\n",
        "\n",
        "# ------------------------------------------\n",
        "# 5. Print model coefficients\n",
        "# ------------------------------------------\n",
        "print(f\"Intercept: {lr_model.intercept:.3f}\")\n",
        "print(f\"Slope (Coefficient): {lr_model.coefficients[0]:.3f}\")\n"
      ],
      "metadata": {
        "colab": {
          "base_uri": "https://localhost:8080/"
        },
        "id": "3QYJ_Kjtcv24",
        "outputId": "145487c7-f538-43ed-9ae1-11c271868af7"
      },
      "execution_count": 2,
      "outputs": [
        {
          "output_type": "stream",
          "name": "stdout",
          "text": [
            "Intercept: 1.007\n",
            "Slope (Coefficient): 0.989\n"
          ]
        }
      ]
    },
    {
      "cell_type": "markdown",
      "source": [
        "## Predictions"
      ],
      "metadata": {
        "id": "keDevyPjc2jh"
      }
    },
    {
      "cell_type": "code",
      "source": [
        "# ------------------------------------------\n",
        "# 6. Make predictions\n",
        "# ------------------------------------------\n",
        "predictions = lr_model.transform(train_df)\n",
        "predictions.show()\n",
        "\n",
        "# ------------------------------------------\n",
        "# 7. Evaluate model performance\n",
        "# ------------------------------------------\n",
        "trainingSummary = lr_model.summary\n",
        "print(f\"RMSE: {trainingSummary.rootMeanSquaredError:.3f}\")\n",
        "print(f\"R²: {trainingSummary.r2:.3f}\")\n"
      ],
      "metadata": {
        "colab": {
          "base_uri": "https://localhost:8080/"
        },
        "id": "pbp9tGn8c1X_",
        "outputId": "bab6849e-e4bc-4db5-f0d2-b2773e8d9681"
      },
      "execution_count": 3,
      "outputs": [
        {
          "output_type": "stream",
          "name": "stdout",
          "text": [
            "+--------+-----+------------------+\n",
            "|features|label|        prediction|\n",
            "+--------+-----+------------------+\n",
            "|   [1.0]|  2.0| 1.995238095238097|\n",
            "|   [2.0]|  2.8|2.9838095238095246|\n",
            "|   [3.0]|  4.2| 3.972380952380953|\n",
            "|   [4.0]|  4.9| 4.960952380952381|\n",
            "|   [5.0]|  6.1| 5.949523809523808|\n",
            "|   [6.0]|  6.8|6.9380952380952365|\n",
            "+--------+-----+------------------+\n",
            "\n",
            "RMSE: 0.148\n",
            "R²: 0.992\n"
          ]
        }
      ]
    }
  ]
}