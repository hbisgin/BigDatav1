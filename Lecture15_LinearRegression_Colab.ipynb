{
 "cells": [
  {
   "cell_type": "markdown",
   "metadata": {
    "application/vnd.databricks.v1+cell": {
     "cellMetadata": {},
     "inputWidgets": {},
     "nuid": "04e14311-7466-4cd7-8be0-5b53b47da930",
     "showTitle": false,
     "tableResultSettingsMap": {},
     "title": ""
    },
    "colab_type": "text",
    "id": "view-in-github"
   },
   "source": [
    "<a href=\"https://colab.research.google.com/github/hbisgin/BigDatav1/blob/main/Lecture15_LinearRegression.ipynb\" target=\"_parent\"><img src=\"https://colab.research.google.com/assets/colab-badge.svg\" alt=\"Open In Colab\"/></a>"
   ]
  },
  {
   "cell_type": "code",
   "execution_count": 0,
   "metadata": {
    "application/vnd.databricks.v1+cell": {
     "cellMetadata": {},
     "inputWidgets": {},
     "nuid": "e2ff8e9f-134d-476c-84c0-9a3c9420b778",
     "showTitle": false,
     "tableResultSettingsMap": {},
     "title": ""
    },
    "colab": {
     "base_uri": "https://localhost:8080/"
    },
    "id": "tykg8rZ_clJ_",
    "outputId": "a8298e94-2af0-47e4-fae3-c6d673eabc99"
   },
   "outputs": [],
   "source": [
    "# ------------------------------------------\n",
    "# 1. Import libraries\n",
    "# ------------------------------------------\n",
    "from pyspark.sql import SparkSession\n",
    "from pyspark.ml.regression import LinearRegression\n",
    "from pyspark.ml.linalg import Vectors\n",
    "from pyspark.sql.functions import col\n",
    "\n",
    "# ------------------------------------------\n",
    "# 2. Start Spark session\n",
    "# ------------------------------------------\n",
    "spark = SparkSession.builder \\\n",
    "    .appName(\"LinearRegressionExample\") \\\n",
    "    .getOrCreate()\n",
    "\n",
    "# ------------------------------------------\n",
    "# 3. Create sample dataset\n",
    "# ------------------------------------------\n",
    "data = [\n",
    "    (1.0, 2.0),\n",
    "    (2.0, 2.8),\n",
    "    (3.0, 4.2),\n",
    "    (4.0, 4.9),\n",
    "    (5.0, 6.1),\n",
    "    (6.0, 6.8)\n",
    "]\n",
    "\n",
    "columns = [\"feature\", \"label\"]\n",
    "df = spark.createDataFrame(data, columns)\n",
    "\n",
    "# Spark’s ML models expect a vector column named “features”\n",
    "from pyspark.ml.feature import VectorAssembler\n",
    "assembler = VectorAssembler(inputCols=[\"feature\"], outputCol=\"features\")\n",
    "train_df = assembler.transform(df).select(\"features\", \"label\")\n",
    "\n",
    "train_df.show()\n"
   ]
  },
  {
   "cell_type": "code",
   "execution_count": 0,
   "metadata": {
    "application/vnd.databricks.v1+cell": {
     "cellMetadata": {},
     "inputWidgets": {},
     "nuid": "e293a4a8-9b36-421f-93b2-cba7970efa49",
     "showTitle": false,
     "tableResultSettingsMap": {},
     "title": ""
    },
    "colab": {
     "base_uri": "https://localhost:8080/"
    },
    "id": "3QYJ_Kjtcv24",
    "outputId": "145487c7-f538-43ed-9ae1-11c271868af7"
   },
   "outputs": [],
   "source": [
    "# ------------------------------------------\n",
    "# 4. Fit Linear Regression model\n",
    "# ------------------------------------------\n",
    "lr = LinearRegression(featuresCol='features', labelCol='label')\n",
    "lr_model = lr.fit(train_df)\n",
    "\n",
    "# ------------------------------------------\n",
    "# 5. Print model coefficients\n",
    "# ------------------------------------------\n",
    "print(f\"Intercept: {lr_model.intercept:.3f}\")\n",
    "print(f\"Slope (Coefficient): {lr_model.coefficients[0]:.3f}\")\n"
   ]
  },
  {
   "cell_type": "markdown",
   "metadata": {
    "application/vnd.databricks.v1+cell": {
     "cellMetadata": {},
     "inputWidgets": {},
     "nuid": "ea9aff2b-087c-4477-a107-b56e984775a2",
     "showTitle": false,
     "tableResultSettingsMap": {},
     "title": ""
    },
    "id": "keDevyPjc2jh"
   },
   "source": [
    "## Predictions"
   ]
  },
  {
   "cell_type": "code",
   "execution_count": 0,
   "metadata": {
    "application/vnd.databricks.v1+cell": {
     "cellMetadata": {},
     "inputWidgets": {},
     "nuid": "fd4dd133-3bea-4d5a-8642-a5db692a2e92",
     "showTitle": false,
     "tableResultSettingsMap": {},
     "title": ""
    },
    "colab": {
     "base_uri": "https://localhost:8080/"
    },
    "id": "pbp9tGn8c1X_",
    "outputId": "bab6849e-e4bc-4db5-f0d2-b2773e8d9681"
   },
   "outputs": [],
   "source": [
    "# ------------------------------------------\n",
    "# 6. Make predictions\n",
    "# ------------------------------------------\n",
    "predictions = lr_model.transform(train_df)\n",
    "predictions.show()\n",
    "\n",
    "# ------------------------------------------\n",
    "# 7. Evaluate model performance\n",
    "# ------------------------------------------\n",
    "trainingSummary = lr_model.summary\n",
    "print(f\"RMSE: {trainingSummary.rootMeanSquaredError:.3f}\")\n",
    "print(f\"R²: {trainingSummary.r2:.3f}\")\n"
   ]
  }
 ],
 "metadata": {
  "application/vnd.databricks.v1+notebook": {
   "computePreferences": null,
   "dashboards": [],
   "environmentMetadata": null,
   "inputWidgetPreferences": null,
   "language": "python",
   "notebookMetadata": {
    "pythonIndentUnit": 4
   },
   "notebookName": "Lecture15_LinearRegression_Colab",
   "widgets": {}
  },
  "colab": {
   "authorship_tag": "ABX9TyP9XocmCd7jvBZyiIV3DpxZ",
   "include_colab_link": true,
   "provenance": []
  },
  "kernelspec": {
   "display_name": "Python 3",
   "name": "python3"
  },
  "language_info": {
   "name": "python"
  }
 },
 "nbformat": 4,
 "nbformat_minor": 0
}
