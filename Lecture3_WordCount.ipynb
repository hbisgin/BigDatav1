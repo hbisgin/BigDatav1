{
  "nbformat": 4,
  "nbformat_minor": 0,
  "metadata": {
    "colab": {
      "provenance": [],
      "mount_file_id": "15cF5OUjdZrMVM0Hw8dRs0E2H9JBumtcX",
      "authorship_tag": "ABX9TyM9BQALZE1lepzaM5QMNqWJ",
      "include_colab_link": true
    },
    "kernelspec": {
      "name": "python3",
      "display_name": "Python 3"
    },
    "language_info": {
      "name": "python"
    }
  },
  "cells": [
    {
      "cell_type": "markdown",
      "metadata": {
        "id": "view-in-github",
        "colab_type": "text"
      },
      "source": [
        "<a href=\"https://colab.research.google.com/github/hbisgin/BigDatav1/blob/main/Lecture3_WordCount.ipynb\" target=\"_parent\"><img src=\"https://colab.research.google.com/assets/colab-badge.svg\" alt=\"Open In Colab\"/></a>"
      ]
    },
    {
      "cell_type": "code",
      "source": [
        "#from pyspark import SparkContext #just for your reference\n",
        "#sc = SparkContext(\"local\", \"WordCountApp\")\n",
        "\n",
        "from pyspark.sql import SparkSession\n",
        "\n",
        "spark = SparkSession.builder \\\n",
        "    .appName(\"MyApp\") \\\n",
        "    .getOrCreate()\n",
        "\n",
        "sc = spark.sparkContext"
      ],
      "metadata": {
        "id": "pQRiVTpX4iQT"
      },
      "execution_count": 8,
      "outputs": []
    },
    {
      "cell_type": "code",
      "execution_count": 9,
      "metadata": {
        "id": "McvWQHj04a9D"
      },
      "outputs": [],
      "source": [
        "\n",
        "text_file = sc.textFile(\"/path/to/your/textfile.txt\")\n",
        "\n",
        "counts = (text_file.flatMap(lambda line: line.split()).map(lambda word: (word, 1)).reduceByKey(lambda a, b: a + b))\n",
        "\n"
      ]
    },
    {
      "cell_type": "code",
      "source": [
        "for word, count in counts.collect():\n",
        "  print(f\"{word}: {count}\")"
      ],
      "metadata": {
        "id": "sJ5UKKJ_6dF0"
      },
      "execution_count": null,
      "outputs": []
    }
  ]
}